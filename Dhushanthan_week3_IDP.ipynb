{
  "cells": [
    {
      "cell_type": "markdown",
      "metadata": {
        "id": "Z8Bsl6iB4k0T"
      },
      "source": [
        "# Building a table image to .csv pipeline\n",
        "\n",
        "## Install libraries"
      ]
    },
    {
      "cell_type": "code",
      "execution_count": 3,
      "metadata": {
        "colab": {
          "base_uri": "https://localhost:8080/"
        },
        "id": "NYktXORT4AA5",
        "outputId": "3042fbf8-0d7b-446c-fc54-a997c5f5c2c3"
      },
      "outputs": [
        {
          "name": "stdout",
          "output_type": "stream",
          "text": [
            "Requirement already satisfied: transformers in /usr/local/lib/python3.10/dist-packages (4.44.2)\n",
            "Requirement already satisfied: filelock in /usr/local/lib/python3.10/dist-packages (from transformers) (3.16.1)\n",
            "Requirement already satisfied: huggingface-hub<1.0,>=0.23.2 in /usr/local/lib/python3.10/dist-packages (from transformers) (0.24.7)\n",
            "Requirement already satisfied: numpy>=1.17 in /usr/local/lib/python3.10/dist-packages (from transformers) (1.26.4)\n",
            "Requirement already satisfied: packaging>=20.0 in /usr/local/lib/python3.10/dist-packages (from transformers) (24.1)\n",
            "Requirement already satisfied: pyyaml>=5.1 in /usr/local/lib/python3.10/dist-packages (from transformers) (6.0.2)\n",
            "Requirement already satisfied: regex!=2019.12.17 in /usr/local/lib/python3.10/dist-packages (from transformers) (2024.9.11)\n",
            "Requirement already satisfied: requests in /usr/local/lib/python3.10/dist-packages (from transformers) (2.32.3)\n",
            "Requirement already satisfied: safetensors>=0.4.1 in /usr/local/lib/python3.10/dist-packages (from transformers) (0.4.5)\n",
            "Requirement already satisfied: tokenizers<0.20,>=0.19 in /usr/local/lib/python3.10/dist-packages (from transformers) (0.19.1)\n",
            "Requirement already satisfied: tqdm>=4.27 in /usr/local/lib/python3.10/dist-packages (from transformers) (4.66.5)\n",
            "Requirement already satisfied: fsspec>=2023.5.0 in /usr/local/lib/python3.10/dist-packages (from huggingface-hub<1.0,>=0.23.2->transformers) (2024.6.1)\n",
            "Requirement already satisfied: typing-extensions>=3.7.4.3 in /usr/local/lib/python3.10/dist-packages (from huggingface-hub<1.0,>=0.23.2->transformers) (4.12.2)\n",
            "Requirement already satisfied: charset-normalizer<4,>=2 in /usr/local/lib/python3.10/dist-packages (from requests->transformers) (3.4.0)\n",
            "Requirement already satisfied: idna<4,>=2.5 in /usr/local/lib/python3.10/dist-packages (from requests->transformers) (3.10)\n",
            "Requirement already satisfied: urllib3<3,>=1.21.1 in /usr/local/lib/python3.10/dist-packages (from requests->transformers) (2.2.3)\n",
            "Requirement already satisfied: certifi>=2017.4.17 in /usr/local/lib/python3.10/dist-packages (from requests->transformers) (2024.8.30)\n",
            "Requirement already satisfied: pillow in /usr/local/lib/python3.10/dist-packages (10.4.0)\n",
            "Requirement already satisfied: huggingface_hub in /usr/local/lib/python3.10/dist-packages (0.24.7)\n",
            "Requirement already satisfied: filelock in /usr/local/lib/python3.10/dist-packages (from huggingface_hub) (3.16.1)\n",
            "Requirement already satisfied: fsspec>=2023.5.0 in /usr/local/lib/python3.10/dist-packages (from huggingface_hub) (2024.6.1)\n",
            "Requirement already satisfied: packaging>=20.9 in /usr/local/lib/python3.10/dist-packages (from huggingface_hub) (24.1)\n",
            "Requirement already satisfied: pyyaml>=5.1 in /usr/local/lib/python3.10/dist-packages (from huggingface_hub) (6.0.2)\n",
            "Requirement already satisfied: requests in /usr/local/lib/python3.10/dist-packages (from huggingface_hub) (2.32.3)\n",
            "Requirement already satisfied: tqdm>=4.42.1 in /usr/local/lib/python3.10/dist-packages (from huggingface_hub) (4.66.5)\n",
            "Requirement already satisfied: typing-extensions>=3.7.4.3 in /usr/local/lib/python3.10/dist-packages (from huggingface_hub) (4.12.2)\n",
            "Requirement already satisfied: charset-normalizer<4,>=2 in /usr/local/lib/python3.10/dist-packages (from requests->huggingface_hub) (3.4.0)\n",
            "Requirement already satisfied: idna<4,>=2.5 in /usr/local/lib/python3.10/dist-packages (from requests->huggingface_hub) (3.10)\n",
            "Requirement already satisfied: urllib3<3,>=1.21.1 in /usr/local/lib/python3.10/dist-packages (from requests->huggingface_hub) (2.2.3)\n",
            "Requirement already satisfied: certifi>=2017.4.17 in /usr/local/lib/python3.10/dist-packages (from requests->huggingface_hub) (2024.8.30)\n",
            "Requirement already satisfied: timm in /usr/local/lib/python3.10/dist-packages (1.0.10)\n",
            "Requirement already satisfied: torch in /usr/local/lib/python3.10/dist-packages (from timm) (2.4.1+cu121)\n",
            "Requirement already satisfied: torchvision in /usr/local/lib/python3.10/dist-packages (from timm) (0.19.1+cu121)\n",
            "Requirement already satisfied: pyyaml in /usr/local/lib/python3.10/dist-packages (from timm) (6.0.2)\n",
            "Requirement already satisfied: huggingface_hub in /usr/local/lib/python3.10/dist-packages (from timm) (0.24.7)\n",
            "Requirement already satisfied: safetensors in /usr/local/lib/python3.10/dist-packages (from timm) (0.4.5)\n",
            "Requirement already satisfied: filelock in /usr/local/lib/python3.10/dist-packages (from huggingface_hub->timm) (3.16.1)\n",
            "Requirement already satisfied: fsspec>=2023.5.0 in /usr/local/lib/python3.10/dist-packages (from huggingface_hub->timm) (2024.6.1)\n",
            "Requirement already satisfied: packaging>=20.9 in /usr/local/lib/python3.10/dist-packages (from huggingface_hub->timm) (24.1)\n",
            "Requirement already satisfied: requests in /usr/local/lib/python3.10/dist-packages (from huggingface_hub->timm) (2.32.3)\n",
            "Requirement already satisfied: tqdm>=4.42.1 in /usr/local/lib/python3.10/dist-packages (from huggingface_hub->timm) (4.66.5)\n",
            "Requirement already satisfied: typing-extensions>=3.7.4.3 in /usr/local/lib/python3.10/dist-packages (from huggingface_hub->timm) (4.12.2)\n",
            "Requirement already satisfied: sympy in /usr/local/lib/python3.10/dist-packages (from torch->timm) (1.13.3)\n",
            "Requirement already satisfied: networkx in /usr/local/lib/python3.10/dist-packages (from torch->timm) (3.4)\n",
            "Requirement already satisfied: jinja2 in /usr/local/lib/python3.10/dist-packages (from torch->timm) (3.1.4)\n",
            "Requirement already satisfied: numpy in /usr/local/lib/python3.10/dist-packages (from torchvision->timm) (1.26.4)\n",
            "Requirement already satisfied: pillow!=8.3.*,>=5.3.0 in /usr/local/lib/python3.10/dist-packages (from torchvision->timm) (10.4.0)\n",
            "Requirement already satisfied: MarkupSafe>=2.0 in /usr/local/lib/python3.10/dist-packages (from jinja2->torch->timm) (3.0.1)\n",
            "Requirement already satisfied: charset-normalizer<4,>=2 in /usr/local/lib/python3.10/dist-packages (from requests->huggingface_hub->timm) (3.4.0)\n",
            "Requirement already satisfied: idna<4,>=2.5 in /usr/local/lib/python3.10/dist-packages (from requests->huggingface_hub->timm) (3.10)\n",
            "Requirement already satisfied: urllib3<3,>=1.21.1 in /usr/local/lib/python3.10/dist-packages (from requests->huggingface_hub->timm) (2.2.3)\n",
            "Requirement already satisfied: certifi>=2017.4.17 in /usr/local/lib/python3.10/dist-packages (from requests->huggingface_hub->timm) (2024.8.30)\n",
            "Requirement already satisfied: mpmath<1.4,>=1.1.0 in /usr/local/lib/python3.10/dist-packages (from sympy->torch->timm) (1.3.0)\n",
            "Requirement already satisfied: matplotlib in /usr/local/lib/python3.10/dist-packages (3.7.1)\n",
            "Requirement already satisfied: contourpy>=1.0.1 in /usr/local/lib/python3.10/dist-packages (from matplotlib) (1.3.0)\n",
            "Requirement already satisfied: cycler>=0.10 in /usr/local/lib/python3.10/dist-packages (from matplotlib) (0.12.1)\n",
            "Requirement already satisfied: fonttools>=4.22.0 in /usr/local/lib/python3.10/dist-packages (from matplotlib) (4.54.1)\n",
            "Requirement already satisfied: kiwisolver>=1.0.1 in /usr/local/lib/python3.10/dist-packages (from matplotlib) (1.4.7)\n",
            "Requirement already satisfied: numpy>=1.20 in /usr/local/lib/python3.10/dist-packages (from matplotlib) (1.26.4)\n",
            "Requirement already satisfied: packaging>=20.0 in /usr/local/lib/python3.10/dist-packages (from matplotlib) (24.1)\n",
            "Requirement already satisfied: pillow>=6.2.0 in /usr/local/lib/python3.10/dist-packages (from matplotlib) (10.4.0)\n",
            "Requirement already satisfied: pyparsing>=2.3.1 in /usr/local/lib/python3.10/dist-packages (from matplotlib) (3.1.4)\n",
            "Requirement already satisfied: python-dateutil>=2.7 in /usr/local/lib/python3.10/dist-packages (from matplotlib) (2.8.2)\n",
            "Requirement already satisfied: six>=1.5 in /usr/local/lib/python3.10/dist-packages (from python-dateutil>=2.7->matplotlib) (1.16.0)\n"
          ]
        }
      ],
      "source": [
        "%pip install transformers\n",
        "%pip install pillow huggingface_hub\n",
        "%pip install timm\n",
        "%pip install matplotlib"
      ]
    },
    {
      "cell_type": "code",
      "execution_count": 4,
      "metadata": {
        "colab": {
          "base_uri": "https://localhost:8080/"
        },
        "id": "CEFz4IhP9xC9",
        "outputId": "ddf57a03-f582-490d-ee67-35d039ee81f5"
      },
      "outputs": [
        {
          "name": "stdout",
          "output_type": "stream",
          "text": [
            "Drive already mounted at /content/drive; to attempt to forcibly remount, call drive.mount(\"/content/drive\", force_remount=True).\n"
          ]
        }
      ],
      "source": [
        "from google.colab import drive\n",
        "drive.mount('/content/drive')"
      ]
    },
    {
      "cell_type": "markdown",
      "metadata": {
        "id": "aJvB_aZ6H7yT"
      },
      "source": [
        "## Table detection\n",
        "\n",
        "Given a table image and finding the bounding box\n"
      ]
    },
    {
      "cell_type": "code",
      "execution_count": 5,
      "metadata": {
        "colab": {
          "base_uri": "https://localhost:8080/"
        },
        "id": "_6ygna8K28zf",
        "outputId": "83ab2783-0c19-4e4e-fd22-abccfc5efbb5"
      },
      "outputs": [
        {
          "name": "stdout",
          "output_type": "stream",
          "text": [
            "Loaded 0005ab896e95c5de6885bbf595500a8e-66.png\n",
            "Loaded 000f8315c3bea30fb7ae99f925286343-15.png\n",
            "Loaded 001e626d00966d0268d44ce686e8559b-118.png\n",
            "Loaded 001e626d00966d0268d44ce686e8559b-62.png\n",
            "Loaded 0081e7fd154bb0319f96ac0c6127da1a-118.png\n",
            "Loaded 005608f2ffa46e92e672f0083b6037c4-38.png\n",
            "Loaded 0079611b26cefff735f1d98a932e8b7d-1.png\n",
            "Loaded 004f4586092af34f31313224ab19c50c-4.png\n",
            "Loaded 00c0c202e8d3b133dae5f1e4a7137deb-42.png\n",
            "Loaded 00bb7f8f05c53d3e4e1ee3f332278707-177.png\n"
          ]
        }
      ],
      "source": [
        "# load all the images in the assingment_data directory\n",
        "import os\n",
        "from transformers import AutoImageProcessor, TableTransformerForObjectDetection\n",
        "from PIL import Image\n",
        "\n",
        "folder_path = '/content/drive/MyDrive/idp_bootcamp/week_3_assignment/assingment_data'\n",
        "\n",
        "image_files = [f for f in os.listdir(folder_path) if f.endswith(('.png', '.jpg', '.jpeg'))]\n",
        "\n",
        "for img_file in image_files:\n",
        "    print(f\"Loaded {img_file}\")"
      ]
    },
    {
      "cell_type": "code",
      "execution_count": 6,
      "metadata": {
        "id": "-ORchyl9GA4w"
      },
      "outputs": [],
      "source": [
        "#creating new directories to store the outputs\n",
        "import os\n",
        "from transformers import AutoImageProcessor, TableTransformerForObjectDetection\n",
        "from PIL import Image, ImageDraw\n",
        "import torch\n",
        "\n",
        "output_bbox_folder = \"/content/drive/MyDrive/idp_bootcamp/week_3_assignment/tables_with_bbox\"\n",
        "output_crop_folder = \"/content/drive/MyDrive/idp_bootcamp/week_3_assignment/cropped_tables\"\n",
        "table_structure_folder = \"/content/drive/MyDrive/idp_bootcamp/week_3_assignment/table_structures\"\n",
        "\n",
        "os.makedirs(output_bbox_folder, exist_ok=True)\n",
        "os.makedirs(output_crop_folder, exist_ok=True)\n",
        "os.makedirs(table_structure_folder, exist_ok=True)"
      ]
    },
    {
      "cell_type": "code",
      "execution_count": 7,
      "metadata": {
        "colab": {
          "base_uri": "https://localhost:8080/"
        },
        "id": "WUAoJS3k5t2l",
        "outputId": "80176d4c-a9f5-4b7c-bc11-e07e74d7cb6c"
      },
      "outputs": [
        {
          "name": "stderr",
          "output_type": "stream",
          "text": [
            "The `max_size` parameter is deprecated and will be removed in v4.26. Please specify in `size['longest_edge'] instead`.\n",
            "Some weights of the model checkpoint at microsoft/table-transformer-detection were not used when initializing TableTransformerForObjectDetection: ['model.backbone.conv_encoder.model.layer2.0.downsample.1.num_batches_tracked', 'model.backbone.conv_encoder.model.layer3.0.downsample.1.num_batches_tracked', 'model.backbone.conv_encoder.model.layer4.0.downsample.1.num_batches_tracked']\n",
            "- This IS expected if you are initializing TableTransformerForObjectDetection from the checkpoint of a model trained on another task or with another architecture (e.g. initializing a BertForSequenceClassification model from a BertForPreTraining model).\n",
            "- This IS NOT expected if you are initializing TableTransformerForObjectDetection from the checkpoint of a model that you expect to be exactly identical (initializing a BertForSequenceClassification model from a BertForSequenceClassification model).\n"
          ]
        }
      ],
      "source": [
        "# Table detection\n",
        "image_processor = AutoImageProcessor.from_pretrained(\"microsoft/table-transformer-detection\")\n",
        "model = TableTransformerForObjectDetection.from_pretrained(\"microsoft/table-transformer-detection\")\n",
        "\n",
        "def visualize_bbox(image, box, color=\"red\", width=2):\n",
        "    draw = ImageDraw.Draw(image)\n",
        "    draw.rectangle(box, outline=color, width=width)\n",
        "    return image\n",
        "\n",
        "image_files = [f for f in os.listdir(folder_path) if f.endswith(('.png', '.jpg', '.jpeg'))]"
      ]
    },
    {
      "cell_type": "code",
      "execution_count": 8,
      "metadata": {
        "id": "fpW8hq0XHcmy"
      },
      "outputs": [],
      "source": [
        "# Function to crop out only the tables\n",
        "def crop_and_save_bounding_boxes(image, boxes, output_folder, image_name):\n",
        "    \"\"\"\n",
        "    Crops the image using the bounding boxes and saves the cropped images.\n",
        "\n",
        "    Args:\n",
        "        image: PIL Image object.\n",
        "        boxes: List of bounding boxes.\n",
        "        output_folder: Folder path to save cropped images.\n",
        "        image_name: Base name for cropped image files.\n",
        "    \"\"\"\n",
        "    padding = 10\n",
        "\n",
        "    for idx, box in enumerate(boxes):\n",
        "\n",
        "        box = [round(i) for i in box.tolist()]\n",
        "\n",
        "        box = [box[0] - padding, box[1] - padding, box[2] + padding, box[3] + padding]\n",
        "\n",
        "        cropped_image = image.crop(box)\n",
        "\n",
        "        cropped_image.save(os.path.join(output_folder, f\"{image_name}.png\"))"
      ]
    },
    {
      "cell_type": "code",
      "execution_count": 9,
      "metadata": {
        "colab": {
          "base_uri": "https://localhost:8080/"
        },
        "id": "9bFNICboJ7Al",
        "outputId": "ce2f25a2-215d-4e27-eede-0f3d65a690c8"
      },
      "outputs": [
        {
          "name": "stdout",
          "output_type": "stream",
          "text": [
            "Processed and saved bounding box image: /content/drive/MyDrive/idp_bootcamp/week_3_assignment/tables_with_bbox/0005ab896e95c5de6885bbf595500a8e-66.png\n",
            "Processed and saved bounding box image: /content/drive/MyDrive/idp_bootcamp/week_3_assignment/tables_with_bbox/000f8315c3bea30fb7ae99f925286343-15.png\n",
            "Processed and saved bounding box image: /content/drive/MyDrive/idp_bootcamp/week_3_assignment/tables_with_bbox/001e626d00966d0268d44ce686e8559b-118.png\n",
            "Processed and saved bounding box image: /content/drive/MyDrive/idp_bootcamp/week_3_assignment/tables_with_bbox/001e626d00966d0268d44ce686e8559b-62.png\n",
            "Processed and saved bounding box image: /content/drive/MyDrive/idp_bootcamp/week_3_assignment/tables_with_bbox/0081e7fd154bb0319f96ac0c6127da1a-118.png\n",
            "Processed and saved bounding box image: /content/drive/MyDrive/idp_bootcamp/week_3_assignment/tables_with_bbox/005608f2ffa46e92e672f0083b6037c4-38.png\n",
            "No bounding boxes detected for image: 0079611b26cefff735f1d98a932e8b7d-1.png\n",
            "Processed and saved bounding box image: /content/drive/MyDrive/idp_bootcamp/week_3_assignment/tables_with_bbox/004f4586092af34f31313224ab19c50c-4.png\n",
            "No bounding boxes detected for image: 00c0c202e8d3b133dae5f1e4a7137deb-42.png\n",
            "Processed and saved bounding box image: /content/drive/MyDrive/idp_bootcamp/week_3_assignment/tables_with_bbox/00bb7f8f05c53d3e4e1ee3f332278707-177.png\n",
            "All images processed and saved in the respective folders.\n"
          ]
        }
      ],
      "source": [
        "# Processes all the images and save them in tables_with_bbox, cropped_tables folders respectively\n",
        "for idx, image_file in enumerate(image_files):\n",
        "    image_path = os.path.join(folder_path, image_file)\n",
        "    image = Image.open(image_path).convert(\"RGB\")\n",
        "\n",
        "    inputs = image_processor(images=image, return_tensors=\"pt\")\n",
        "    outputs = model(**inputs)\n",
        "\n",
        "    target_sizes = torch.tensor([image.size[::-1]])\n",
        "    results = image_processor.post_process_object_detection(outputs, threshold=0.9, target_sizes=target_sizes)[0]\n",
        "\n",
        "    image_with_bbox = image.copy()\n",
        "\n",
        "    if \"boxes\" in results and len(results[\"boxes\"]) > 0:\n",
        "        for box in results[\"boxes\"]:\n",
        "            box = [round(i, 2) for i in box.tolist()]\n",
        "            image_with_bbox = visualize_bbox(image_with_bbox, box)\n",
        "\n",
        "        bbox_output_path = os.path.join(output_bbox_folder, image_file)\n",
        "        image_with_bbox.save(bbox_output_path)\n",
        "        print(f\"Processed and saved bounding box image: {bbox_output_path}\")\n",
        "\n",
        "        crop_and_save_bounding_boxes(image, results[\"boxes\"], output_crop_folder, os.path.splitext(image_file)[0])\n",
        "\n",
        "    else:\n",
        "        print(f\"No bounding boxes detected for image: {image_file}\")\n",
        "\n",
        "print(\"All images processed and saved in the respective folders.\")"
      ]
    },
    {
      "cell_type": "markdown",
      "metadata": {
        "id": "jOsIYDdZMbGv"
      },
      "source": [
        "Images that does not contain Tables:\n",
        "\n",
        "\t•\t00c0c202e8d3b133dae5f1e4a7137deb-42.png\n",
        "\t•\t0079611b26cefff735f1d98a932e8b7d-1.png\n",
        "\n",
        "Images Where the Model Struggles to Detect Table Bounding Boxes:\n",
        "\n",
        "\t•\t00bb7f8f05c53d3e4e1ee3f332278707-177.png\n",
        "\t•\t001e626d00966d0268d44ce686e8559b-62.png\n",
        "\n",
        "Images with Successfully Detected Table Bounding Boxes:\n",
        "\n",
        "\t•\t0081e7fd154bb0319f96ac0c6127da1a-118.png\n",
        "\t•\t0005ab896e95c5de6885bbf595500a8e-66.png\n",
        "\t•\t000f8315c3bea30fb7ae99f925286343-15.png\n",
        "\t•\t001e626d00966d0268d44ce686e8559b-118.png\n",
        "\t•\t004f4586092af34f31313224ab19c50c-4.png\n",
        "\t•\t005608f2ffa46e92e672f0083b6037c4-38.png\n",
        "\n"
      ]
    },
    {
      "cell_type": "markdown",
      "metadata": {
        "id": "akhsogmKZbTU"
      },
      "source": [
        "### Reasons for Inaccurate Bounding Box Detection\n",
        "\n",
        "  - The absence of visible borders or lines.\n",
        "\n",
        "  - Images have low resolution.\n",
        "\n",
        "  - Images with less clear text\n",
        "\n",
        "  - Complex or Nested Table Structures\n",
        "\n",
        "  - Unequal Row or Column Sizes\n",
        "\n",
        "  - Handwritten or Stylized Text"
      ]
    },
    {
      "cell_type": "markdown",
      "metadata": {
        "id": "SRQzmk-7JBbO"
      },
      "source": [
        "## Table structure recognition\n"
      ]
    },
    {
      "cell_type": "markdown",
      "metadata": {
        "id": "_O73arTuObQb"
      },
      "source": [
        "Definition: given a table image, identifying the rows and columns and column headers of the table."
      ]
    },
    {
      "cell_type": "code",
      "execution_count": 10,
      "metadata": {
        "id": "8Oz-DdkaNQ1A"
      },
      "outputs": [],
      "source": [
        "import matplotlib.pyplot as plt\n",
        "from transformers import DetrFeatureExtractor, DetrForObjectDetection"
      ]
    },
    {
      "cell_type": "code",
      "execution_count": 11,
      "metadata": {
        "id": "kMUckbRnNB-U"
      },
      "outputs": [],
      "source": [
        "COLORS = [\n",
        "    [0.000, 0.447, 0.741],\n",
        "    [0.850, 0.325, 0.098],\n",
        "    [0.929, 0.694, 0.125],\n",
        "    [0.494, 0.184, 0.556],\n",
        "    [0.466, 0.674, 0.188],\n",
        "    [0.301, 0.745, 0.933],\n",
        "]\n",
        "\n",
        "# # Function to Plot Detected Rows and Columns on Table Image\n",
        "def plot_simple_box(table_img_path, row_boxes, col_boxes, file_name):\n",
        "    table_img = Image.open(table_img_path).convert(\"RGB\")\n",
        "    plt.figure(figsize=(16, 10))\n",
        "    plt.imshow(table_img)\n",
        "    ax = plt.gca()\n",
        "    colors = COLORS * 100\n",
        "\n",
        "    # Plot row boxes\n",
        "    for bbox, c in zip(row_boxes, colors):\n",
        "        ax.add_patch(\n",
        "            plt.Rectangle(\n",
        "                (bbox[0], bbox[1]),\n",
        "                bbox[2] - bbox[0],\n",
        "                bbox[3] - bbox[1],\n",
        "                fill=False,\n",
        "                color=c,\n",
        "                linewidth=1.5,\n",
        "            )\n",
        "        )\n",
        "\n",
        "    plt.axis(\"off\")\n",
        "    plt.savefig(file_name, bbox_inches=\"tight\", pad_inches=0)\n",
        "    plt.close()"
      ]
    },
    {
      "cell_type": "code",
      "execution_count": 12,
      "metadata": {
        "colab": {
          "base_uri": "https://localhost:8080/"
        },
        "id": "I0l7-5SMK_QP",
        "outputId": "c88b1f79-285c-4fb5-fb76-343c9808ee3b"
      },
      "outputs": [
        {
          "name": "stderr",
          "output_type": "stream",
          "text": [
            "Some weights of the model checkpoint at microsoft/table-transformer-structure-recognition were not used when initializing TableTransformerForObjectDetection: ['model.backbone.conv_encoder.model.layer2.0.downsample.1.num_batches_tracked', 'model.backbone.conv_encoder.model.layer3.0.downsample.1.num_batches_tracked', 'model.backbone.conv_encoder.model.layer4.0.downsample.1.num_batches_tracked']\n",
            "- This IS expected if you are initializing TableTransformerForObjectDetection from the checkpoint of a model trained on another task or with another architecture (e.g. initializing a BertForSequenceClassification model from a BertForPreTraining model).\n",
            "- This IS NOT expected if you are initializing TableTransformerForObjectDetection from the checkpoint of a model that you expect to be exactly identical (initializing a BertForSequenceClassification model from a BertForSequenceClassification model).\n"
          ]
        }
      ],
      "source": [
        "model_structure = TableTransformerForObjectDetection.from_pretrained(\n",
        "    \"microsoft/table-transformer-structure-recognition\")\n",
        "\n",
        "# Function to Extract Row and Column Bounding Boxes from Table Image\n",
        "def get_row_col_bounds(table_path, ts_thresh=0.7, plot=False):\n",
        "\n",
        "    table = Image.open(table_path).convert(\"RGB\")\n",
        "    feature_extractor = DetrFeatureExtractor()\n",
        "    table_encoding = feature_extractor(table, return_tensors=\"pt\")\n",
        "\n",
        "    # predict table structure\n",
        "    with torch.no_grad():\n",
        "        outputs = model_structure(**table_encoding)\n",
        "\n",
        "    # visualize table structure\n",
        "    target_sizes = [table.size[::-1]]\n",
        "    table_struct_results = feature_extractor.post_process_object_detection(\n",
        "        outputs, threshold=ts_thresh, target_sizes=target_sizes\n",
        "    )[0]\n",
        "\n",
        "\n",
        "    row_boxes = table_struct_results[\"boxes\"][\n",
        "        table_struct_results[\"labels\"] == model_structure.config.label2id[\"table row\"]\n",
        "    ]\n",
        "\n",
        "    row_scores = table_struct_results[\"scores\"][\n",
        "        table_struct_results[\"labels\"] == model_structure.config.label2id[\"table row\"]\n",
        "    ]\n",
        "\n",
        "    col_boxes = table_struct_results[\"boxes\"][\n",
        "        table_struct_results[\"labels\"]\n",
        "        == model_structure.config.label2id[\"table column\"]\n",
        "    ]\n",
        "\n",
        "    col_scores = table_struct_results[\"scores\"][\n",
        "        table_struct_results[\"labels\"]\n",
        "        == model_structure.config.label2id[\"table column\"]\n",
        "    ]\n",
        "\n",
        "    table_header_box = table_struct_results[\"boxes\"][\n",
        "        table_struct_results[\"labels\"]\n",
        "        == model_structure.config.label2id[\"table column header\"]\n",
        "    ]\n",
        "    table_header_score = table_struct_results[\"scores\"][\n",
        "        table_struct_results[\"labels\"]\n",
        "        == model_structure.config.label2id[\"table column header\"]\n",
        "    ]\n",
        "    print(os.path.basename(table_path))\n",
        "    print(f\"Num rows initially detected: {len(row_boxes)}\")\n",
        "    print(f\"Num cols initially detected: {len(col_boxes)}\")\n",
        "    print(f\"Num table header detected: {len(table_header_box)}\")\n",
        "\n",
        "\n",
        "    return (\n",
        "        row_boxes,\n",
        "        row_scores,\n",
        "        col_boxes,\n",
        "        col_scores,\n",
        "        table_header_box,\n",
        "        table_header_score,\n",
        "    )"
      ]
    },
    {
      "cell_type": "code",
      "execution_count": 13,
      "metadata": {
        "colab": {
          "base_uri": "https://localhost:8080/"
        },
        "id": "QkXmi85n2YS7",
        "outputId": "ccc85350-f73e-4789-bde9-5e93899488e7"
      },
      "outputs": [
        {
          "name": "stdout",
          "output_type": "stream",
          "text": [
            "0005ab896e95c5de6885bbf595500a8e-66.png\n",
            "Num rows initially detected: 18\n",
            "Num cols initially detected: 9\n",
            "Num table header detected: 1\n",
            "Annotated image saved: /content/drive/MyDrive/idp_bootcamp/week_3_assignment/table_structures/0005ab896e95c5de6885bbf595500a8e-66.png\n",
            "000f8315c3bea30fb7ae99f925286343-15.png\n",
            "Num rows initially detected: 0\n",
            "Num cols initially detected: 5\n",
            "Num table header detected: 1\n",
            "Annotated image saved: /content/drive/MyDrive/idp_bootcamp/week_3_assignment/table_structures/000f8315c3bea30fb7ae99f925286343-15.png\n",
            "001e626d00966d0268d44ce686e8559b-118.png\n",
            "Num rows initially detected: 10\n",
            "Num cols initially detected: 5\n",
            "Num table header detected: 1\n",
            "Annotated image saved: /content/drive/MyDrive/idp_bootcamp/week_3_assignment/table_structures/001e626d00966d0268d44ce686e8559b-118.png\n",
            "001e626d00966d0268d44ce686e8559b-62.png\n",
            "Num rows initially detected: 17\n",
            "Num cols initially detected: 2\n",
            "Num table header detected: 0\n",
            "Annotated image saved: /content/drive/MyDrive/idp_bootcamp/week_3_assignment/table_structures/001e626d00966d0268d44ce686e8559b-62.png\n",
            "0081e7fd154bb0319f96ac0c6127da1a-118.png\n",
            "Num rows initially detected: 11\n",
            "Num cols initially detected: 11\n",
            "Num table header detected: 1\n",
            "Annotated image saved: /content/drive/MyDrive/idp_bootcamp/week_3_assignment/table_structures/0081e7fd154bb0319f96ac0c6127da1a-118.png\n",
            "005608f2ffa46e92e672f0083b6037c4-38.png\n",
            "Num rows initially detected: 0\n",
            "Num cols initially detected: 8\n",
            "Num table header detected: 1\n",
            "Annotated image saved: /content/drive/MyDrive/idp_bootcamp/week_3_assignment/table_structures/005608f2ffa46e92e672f0083b6037c4-38.png\n",
            "004f4586092af34f31313224ab19c50c-4.png\n",
            "Num rows initially detected: 24\n",
            "Num cols initially detected: 3\n",
            "Num table header detected: 1\n",
            "Annotated image saved: /content/drive/MyDrive/idp_bootcamp/week_3_assignment/table_structures/004f4586092af34f31313224ab19c50c-4.png\n",
            "00bb7f8f05c53d3e4e1ee3f332278707-177.png\n",
            "Num rows initially detected: 2\n",
            "Num cols initially detected: 3\n",
            "Num table header detected: 0\n",
            "Annotated image saved: /content/drive/MyDrive/idp_bootcamp/week_3_assignment/table_structures/00bb7f8f05c53d3e4e1ee3f332278707-177.png\n",
            "All images processed and saved in the 'table_structures' folder.\n"
          ]
        }
      ],
      "source": [
        "table_structure_path = \"/content/drive/MyDrive/idp_bootcamp/week_3_assignment/table_structures\"\n",
        "os.makedirs(table_structure_path, exist_ok=True)\n",
        "\n",
        "# loop through each cropped image and detect the table structures\n",
        "for img_file in os.listdir(output_crop_folder):\n",
        "    if img_file.endswith(('.png', '.jpg', '.jpeg')):\n",
        "        img_path = os.path.join(output_crop_folder, img_file)\n",
        "\n",
        "        # Extract row and column boxes\n",
        "        row_boxes, row_scores, col_boxes, col_scores, header_boxes, header_scores = get_row_col_bounds(img_path)\n",
        "\n",
        "        # Annotate the image and save the result\n",
        "        output_path = os.path.join(table_structure_path, img_file)\n",
        "        plot_simple_box(img_path, row_boxes, col_boxes, output_path)\n",
        "\n",
        "        print(f\"Annotated image saved: {output_path}\")\n",
        "\n",
        "print(\"All images processed and saved in the 'table_structures' folder.\")"
      ]
    },
    {
      "cell_type": "markdown",
      "metadata": {
        "id": "Iu4eYAuY7vD_"
      },
      "source": [
        "### Reasons for Inaccurate table structure detection\n",
        "\n",
        "  - Two line column name\n",
        "\n",
        "  - unequal row size\n",
        "\n",
        "  - The absence of visible borders or lines.\n",
        "\n",
        "  - Merged Cells\n",
        "\n",
        "  - Low Image Quality\n",
        "\n",
        "  - Dense Text Content\n",
        "\n",
        "  - Non-uniform layouts with inconsistent spacing between rows and columns\n"
      ]
    },
    {
      "cell_type": "code",
      "execution_count": 14,
      "metadata": {
        "id": "Pw1CwPKoS1F6"
      },
      "outputs": [],
      "source": [
        "table_image_path = \"/content/drive/MyDrive/idp_bootcamp/week_3_assignment/table_structures/0081e7fd154bb0319f96ac0c6127da1a-118.png\""
      ]
    },
    {
      "cell_type": "code",
      "execution_count": 15,
      "metadata": {
        "id": "2WaxtK7SUqB9"
      },
      "outputs": [],
      "source": [
        "# Function to Sort Row and Column Bounding Boxes Based on Their Coordinates\n",
        "def sort_row_col_boxes(row_boxes, col_boxes):\n",
        "    row_boxes = row_boxes.tolist()\n",
        "    col_boxes = col_boxes.tolist()\n",
        "    row_boxes.sort(key=lambda x: x[1]) #[top_x, top_y, bottom_x, bottom_y]\n",
        "    col_boxes.sort(key=lambda x: x[0])\n",
        "    return row_boxes, col_boxes\n"
      ]
    },
    {
      "cell_type": "code",
      "execution_count": 16,
      "metadata": {
        "id": "BtqoIII8T6xk"
      },
      "outputs": [],
      "source": [
        "# Function to Generate Cell Boundaries by Intersecting Row and Column Boxes\n",
        "def get_cells_by_intersecting_rows_and_cols(row_boxes, col_boxes, padding=(0, 0)):\n",
        "    cells = []\n",
        "    for row_box in row_boxes:\n",
        "        for col_box in col_boxes:\n",
        "            cell_left_upper_x = col_box[0]\n",
        "            cell_left_upper_y = row_box[1]\n",
        "            cell_right_lower_x = col_box[2]\n",
        "            cell_right_lower_y = row_box[3]\n",
        "            cells.append(\n",
        "                [\n",
        "                    cell_left_upper_x,\n",
        "                    cell_left_upper_y,\n",
        "                    cell_right_lower_x,\n",
        "                    cell_right_lower_y,\n",
        "                ]\n",
        "            )\n",
        "    return cells"
      ]
    },
    {
      "cell_type": "code",
      "execution_count": 17,
      "metadata": {
        "colab": {
          "base_uri": "https://localhost:8080/"
        },
        "id": "1LY-UQQdMEC-",
        "outputId": "6fb1156f-3213-4d06-f734-b0dde8338f15"
      },
      "outputs": [
        {
          "name": "stdout",
          "output_type": "stream",
          "text": [
            "0081e7fd154bb0319f96ac0c6127da1a-118.png\n",
            "Num rows initially detected: 12\n",
            "Num cols initially detected: 11\n",
            "Num table header detected: 1\n"
          ]
        }
      ],
      "source": [
        "table_structure_outs = get_row_col_bounds(table_image_path)"
      ]
    },
    {
      "cell_type": "code",
      "execution_count": 18,
      "metadata": {
        "id": "WYQ_Xuc2Ur6t"
      },
      "outputs": [],
      "source": [
        "sorted_rows, sorted_cols = sort_row_col_boxes(table_structure_outs[0], table_structure_outs[2])"
      ]
    },
    {
      "cell_type": "code",
      "execution_count": 19,
      "metadata": {
        "id": "wrO5uYqeUDbI"
      },
      "outputs": [],
      "source": [
        "cells = get_cells_by_intersecting_rows_and_cols(sorted_rows, sorted_cols)"
      ]
    },
    {
      "cell_type": "code",
      "execution_count": 20,
      "metadata": {
        "colab": {
          "base_uri": "https://localhost:8080/"
        },
        "id": "hMmxDAfxXDyD",
        "outputId": "7414972d-0136-44aa-cca1-573e7b953d70"
      },
      "outputs": [
        {
          "data": {
            "text/plain": [
              "[21.84713363647461, 59.128108978271484, 259.18212890625, 97.39546966552734]"
            ]
          },
          "execution_count": 20,
          "metadata": {},
          "output_type": "execute_result"
        }
      ],
      "source": [
        "cells[0]"
      ]
    },
    {
      "cell_type": "code",
      "execution_count": 21,
      "metadata": {
        "id": "F0Rnio24Mn9A"
      },
      "outputs": [],
      "source": [
        "image = Image.open(table_image_path).convert(\"RGB\")"
      ]
    },
    {
      "cell_type": "code",
      "execution_count": 22,
      "metadata": {
        "colab": {
          "base_uri": "https://localhost:8080/",
          "height": 55
        },
        "id": "g_7R7_LSUNab",
        "outputId": "5fa764f7-fb64-4594-c778-0b368ac65bf9"
      },
      "outputs": [
        {
          "data": {
            "image/jpeg": "[encoded data removed]",
            "image/png": "[encoded data removed]",
            "text/plain": [
              "<PIL.Image.Image image mode=RGB size=237x38>"
            ]
          },
          "execution_count": 22,
          "metadata": {},
          "output_type": "execute_result"
        }
      ],
      "source": [
        "image.crop(cells[0])"
      ]
    },
    {
      "cell_type": "markdown",
      "metadata": {
        "id": "rmrDev-UUv-y"
      },
      "source": [
        "## Cells to DataFrame\n",
        "\n",
        "Now that you have each cell, now we need to get a DataFrame of the table."
      ]
    },
    {
      "cell_type": "code",
      "execution_count": 23,
      "metadata": {
        "colab": {
          "base_uri": "https://localhost:8080/"
        },
        "id": "lttxESlaUmPv",
        "outputId": "9979b5a0-26b2-4354-e232-6995e8d37784"
      },
      "outputs": [
        {
          "name": "stdout",
          "output_type": "stream",
          "text": [
            "Requirement already satisfied: paddlepaddle in /usr/local/lib/python3.10/dist-packages (2.6.2)\n",
            "Requirement already satisfied: paddleocr in /usr/local/lib/python3.10/dist-packages (2.8.1)\n",
            "Requirement already satisfied: httpx in /usr/local/lib/python3.10/dist-packages (from paddlepaddle) (0.27.2)\n",
            "Requirement already satisfied: numpy>=1.13 in /usr/local/lib/python3.10/dist-packages (from paddlepaddle) (1.26.4)\n",
            "Requirement already satisfied: Pillow in /usr/local/lib/python3.10/dist-packages (from paddlepaddle) (10.4.0)\n",
            "Requirement already satisfied: decorator in /usr/local/lib/python3.10/dist-packages (from paddlepaddle) (4.4.2)\n",
            "Requirement already satisfied: astor in /usr/local/lib/python3.10/dist-packages (from paddlepaddle) (0.8.1)\n",
            "Requirement already satisfied: opt-einsum==3.3.0 in /usr/local/lib/python3.10/dist-packages (from paddlepaddle) (3.3.0)\n",
            "Requirement already satisfied: protobuf>=3.20.2 in /usr/local/lib/python3.10/dist-packages (from paddlepaddle) (3.20.3)\n",
            "Requirement already satisfied: shapely in /usr/local/lib/python3.10/dist-packages (from paddleocr) (2.0.6)\n",
            "Requirement already satisfied: scikit-image in /usr/local/lib/python3.10/dist-packages (from paddleocr) (0.24.0)\n",
            "Requirement already satisfied: imgaug in /usr/local/lib/python3.10/dist-packages (from paddleocr) (0.4.0)\n",
            "Requirement already satisfied: pyclipper in /usr/local/lib/python3.10/dist-packages (from paddleocr) (1.3.0.post5)\n",
            "Requirement already satisfied: lmdb in /usr/local/lib/python3.10/dist-packages (from paddleocr) (1.5.1)\n",
            "Requirement already satisfied: tqdm in /usr/local/lib/python3.10/dist-packages (from paddleocr) (4.66.5)\n",
            "Requirement already satisfied: rapidfuzz in /usr/local/lib/python3.10/dist-packages (from paddleocr) (3.10.0)\n",
            "Requirement already satisfied: opencv-python in /usr/local/lib/python3.10/dist-packages (from paddleocr) (4.10.0.84)\n",
            "Requirement already satisfied: opencv-contrib-python in /usr/local/lib/python3.10/dist-packages (from paddleocr) (4.10.0.84)\n",
            "Requirement already satisfied: cython in /usr/local/lib/python3.10/dist-packages (from paddleocr) (3.0.11)\n",
            "Requirement already satisfied: pyyaml in /usr/local/lib/python3.10/dist-packages (from paddleocr) (6.0.2)\n",
            "Requirement already satisfied: python-docx in /usr/local/lib/python3.10/dist-packages (from paddleocr) (1.1.2)\n",
            "Requirement already satisfied: beautifulsoup4 in /usr/local/lib/python3.10/dist-packages (from paddleocr) (4.12.3)\n",
            "Requirement already satisfied: fonttools>=4.24.0 in /usr/local/lib/python3.10/dist-packages (from paddleocr) (4.54.1)\n",
            "Requirement already satisfied: fire>=0.3.0 in /usr/local/lib/python3.10/dist-packages (from paddleocr) (0.7.0)\n",
            "Requirement already satisfied: requests in /usr/local/lib/python3.10/dist-packages (from paddleocr) (2.32.3)\n",
            "Requirement already satisfied: termcolor in /usr/local/lib/python3.10/dist-packages (from fire>=0.3.0->paddleocr) (2.5.0)\n",
            "Requirement already satisfied: soupsieve>1.2 in /usr/local/lib/python3.10/dist-packages (from beautifulsoup4->paddleocr) (2.6)\n",
            "Requirement already satisfied: anyio in /usr/local/lib/python3.10/dist-packages (from httpx->paddlepaddle) (3.7.1)\n",
            "Requirement already satisfied: certifi in /usr/local/lib/python3.10/dist-packages (from httpx->paddlepaddle) (2024.8.30)\n",
            "Requirement already satisfied: httpcore==1.* in /usr/local/lib/python3.10/dist-packages (from httpx->paddlepaddle) (1.0.6)\n",
            "Requirement already satisfied: idna in /usr/local/lib/python3.10/dist-packages (from httpx->paddlepaddle) (3.10)\n",
            "Requirement already satisfied: sniffio in /usr/local/lib/python3.10/dist-packages (from httpx->paddlepaddle) (1.3.1)\n",
            "Requirement already satisfied: h11<0.15,>=0.13 in /usr/local/lib/python3.10/dist-packages (from httpcore==1.*->httpx->paddlepaddle) (0.14.0)\n",
            "Requirement already satisfied: six in /usr/local/lib/python3.10/dist-packages (from imgaug->paddleocr) (1.16.0)\n",
            "Requirement already satisfied: scipy in /usr/local/lib/python3.10/dist-packages (from imgaug->paddleocr) (1.13.1)\n",
            "Requirement already satisfied: matplotlib in /usr/local/lib/python3.10/dist-packages (from imgaug->paddleocr) (3.7.1)\n",
            "Requirement already satisfied: imageio in /usr/local/lib/python3.10/dist-packages (from imgaug->paddleocr) (2.35.1)\n",
            "Requirement already satisfied: networkx>=2.8 in /usr/local/lib/python3.10/dist-packages (from scikit-image->paddleocr) (3.4)\n",
            "Requirement already satisfied: tifffile>=2022.8.12 in /usr/local/lib/python3.10/dist-packages (from scikit-image->paddleocr) (2024.9.20)\n",
            "Requirement already satisfied: packaging>=21 in /usr/local/lib/python3.10/dist-packages (from scikit-image->paddleocr) (24.1)\n",
            "Requirement already satisfied: lazy-loader>=0.4 in /usr/local/lib/python3.10/dist-packages (from scikit-image->paddleocr) (0.4)\n",
            "Requirement already satisfied: lxml>=3.1.0 in /usr/local/lib/python3.10/dist-packages (from python-docx->paddleocr) (4.9.4)\n",
            "Requirement already satisfied: typing-extensions>=4.9.0 in /usr/local/lib/python3.10/dist-packages (from python-docx->paddleocr) (4.12.2)\n",
            "Requirement already satisfied: charset-normalizer<4,>=2 in /usr/local/lib/python3.10/dist-packages (from requests->paddleocr) (3.4.0)\n",
            "Requirement already satisfied: urllib3<3,>=1.21.1 in /usr/local/lib/python3.10/dist-packages (from requests->paddleocr) (2.2.3)\n",
            "Requirement already satisfied: exceptiongroup in /usr/local/lib/python3.10/dist-packages (from anyio->httpx->paddlepaddle) (1.2.2)\n",
            "Requirement already satisfied: contourpy>=1.0.1 in /usr/local/lib/python3.10/dist-packages (from matplotlib->imgaug->paddleocr) (1.3.0)\n",
            "Requirement already satisfied: cycler>=0.10 in /usr/local/lib/python3.10/dist-packages (from matplotlib->imgaug->paddleocr) (0.12.1)\n",
            "Requirement already satisfied: kiwisolver>=1.0.1 in /usr/local/lib/python3.10/dist-packages (from matplotlib->imgaug->paddleocr) (1.4.7)\n",
            "Requirement already satisfied: pyparsing>=2.3.1 in /usr/local/lib/python3.10/dist-packages (from matplotlib->imgaug->paddleocr) (3.1.4)\n",
            "Requirement already satisfied: python-dateutil>=2.7 in /usr/local/lib/python3.10/dist-packages (from matplotlib->imgaug->paddleocr) (2.8.2)\n"
          ]
        }
      ],
      "source": [
        "%pip install paddlepaddle paddleocr"
      ]
    },
    {
      "cell_type": "code",
      "execution_count": 2,
      "metadata": {
        "colab": {
          "base_uri": "https://localhost:8080/"
        },
        "id": "RnopXG4qWHdA",
        "outputId": "f3d3b54f-5029-43bd-e387-434a414bf965"
      },
      "outputs": [
        {
          "name": "stdout",
          "output_type": "stream",
          "text": [
            "download https://paddleocr.bj.bcebos.com/PP-OCRv3/english/en_PP-OCRv3_det_infer.tar to /root/.paddleocr/whl/det/en/en_PP-OCRv3_det_infer/en_PP-OCRv3_det_infer.tar\n"
          ]
        },
        {
          "name": "stderr",
          "output_type": "stream",
          "text": [
            "100%|██████████| 4.00M/4.00M [00:00<00:00, 8.30MiB/s]\n"
          ]
        },
        {
          "name": "stdout",
          "output_type": "stream",
          "text": [
            "download https://paddleocr.bj.bcebos.com/PP-OCRv4/english/en_PP-OCRv4_rec_infer.tar to /root/.paddleocr/whl/rec/en/en_PP-OCRv4_rec_infer/en_PP-OCRv4_rec_infer.tar\n"
          ]
        },
        {
          "name": "stderr",
          "output_type": "stream",
          "text": [
            "100%|██████████| 10.2M/10.2M [00:00<00:00, 14.3MiB/s]\n"
          ]
        },
        {
          "name": "stdout",
          "output_type": "stream",
          "text": [
            "download https://paddleocr.bj.bcebos.com/dygraph_v2.0/ch/ch_ppocr_mobile_v2.0_cls_infer.tar to /root/.paddleocr/whl/cls/ch_ppocr_mobile_v2.0_cls_infer/ch_ppocr_mobile_v2.0_cls_infer.tar\n"
          ]
        },
        {
          "name": "stderr",
          "output_type": "stream",
          "text": [
            "100%|██████████| 2.19M/2.19M [00:00<00:00, 5.29MiB/s]\n"
          ]
        }
      ],
      "source": [
        "# PaddleOCR for OCR\n",
        "from paddleocr import PaddleOCR\n",
        "\n",
        "ocr = PaddleOCR(\n",
        "    lang=\"en\",\n",
        "    use_gpu=False,\n",
        "    show_log=False,\n",
        ")"
      ]
    },
    {
      "cell_type": "code",
      "execution_count": 24,
      "metadata": {
        "colab": {
          "base_uri": "https://localhost:8080/"
        },
        "id": "coYrknsAXepE",
        "outputId": "a3878f42-5af7-471d-fc43-a1001db632d5"
      },
      "outputs": [
        {
          "name": "stdout",
          "output_type": "stream",
          "text": [
            "Requirement already satisfied: opencv-python in /usr/local/lib/python3.10/dist-packages (4.10.0.84)\n",
            "Requirement already satisfied: numpy>=1.21.2 in /usr/local/lib/python3.10/dist-packages (from opencv-python) (1.26.4)\n"
          ]
        }
      ],
      "source": [
        "%pip install opencv-python"
      ]
    },
    {
      "cell_type": "code",
      "execution_count": 25,
      "metadata": {
        "id": "dF2QKoMTXoAS"
      },
      "outputs": [],
      "source": [
        "import cv2\n",
        "import numpy as np"
      ]
    },
    {
      "cell_type": "code",
      "execution_count": 26,
      "metadata": {
        "id": "NFGDchZdXdOr"
      },
      "outputs": [],
      "source": [
        "def PIL_to_cv(pil_img):\n",
        "    return cv2.cvtColor(np.array(pil_img), cv2.COLOR_RGB2BGR)\n"
      ]
    },
    {
      "cell_type": "code",
      "execution_count": 28,
      "metadata": {
        "colab": {
          "base_uri": "https://localhost:8080/"
        },
        "id": "1advVvb-W38S",
        "outputId": "d21b44f1-56db-4785-f086-aaae3e629291"
      },
      "outputs": [
        {
          "name": "stdout",
          "output_type": "stream",
          "text": [
            "[2024/10/15 17:26:00] ppocr WARNING: Since the angle classifier is not initialized, it will not be used during the forward process\n",
            "[2024/10/15 17:26:01] ppocr WARNING: Since the angle classifier is not initialized, it will not be used during the forward process\n",
            "[2024/10/15 17:26:01] ppocr WARNING: Since the angle classifier is not initialized, it will not be used during the forward process\n",
            "[2024/10/15 17:26:02] ppocr WARNING: Since the angle classifier is not initialized, it will not be used during the forward process\n",
            "[2024/10/15 17:26:03] ppocr WARNING: Since the angle classifier is not initialized, it will not be used during the forward process\n",
            "[2024/10/15 17:26:03] ppocr WARNING: Since the angle classifier is not initialized, it will not be used during the forward process\n",
            "[2024/10/15 17:26:03] ppocr WARNING: Since the angle classifier is not initialized, it will not be used during the forward process\n",
            "[2024/10/15 17:26:04] ppocr WARNING: Since the angle classifier is not initialized, it will not be used during the forward process\n",
            "[2024/10/15 17:26:04] ppocr WARNING: Since the angle classifier is not initialized, it will not be used during the forward process\n",
            "[2024/10/15 17:26:05] ppocr WARNING: Since the angle classifier is not initialized, it will not be used during the forward process\n",
            "[2024/10/15 17:26:05] ppocr WARNING: Since the angle classifier is not initialized, it will not be used during the forward process\n",
            "[2024/10/15 17:26:05] ppocr WARNING: Since the angle classifier is not initialized, it will not be used during the forward process\n",
            "[2024/10/15 17:26:05] ppocr WARNING: Since the angle classifier is not initialized, it will not be used during the forward process\n",
            "[2024/10/15 17:26:05] ppocr WARNING: Since the angle classifier is not initialized, it will not be used during the forward process\n",
            "[2024/10/15 17:26:06] ppocr WARNING: Since the angle classifier is not initialized, it will not be used during the forward process\n",
            "[2024/10/15 17:26:06] ppocr WARNING: Since the angle classifier is not initialized, it will not be used during the forward process\n",
            "[2024/10/15 17:26:06] ppocr WARNING: Since the angle classifier is not initialized, it will not be used during the forward process\n",
            "[2024/10/15 17:26:06] ppocr WARNING: Since the angle classifier is not initialized, it will not be used during the forward process\n",
            "[2024/10/15 17:26:06] ppocr WARNING: Since the angle classifier is not initialized, it will not be used during the forward process\n",
            "[2024/10/15 17:26:06] ppocr WARNING: Since the angle classifier is not initialized, it will not be used during the forward process\n",
            "[2024/10/15 17:26:06] ppocr WARNING: Since the angle classifier is not initialized, it will not be used during the forward process\n",
            "[2024/10/15 17:26:07] ppocr WARNING: Since the angle classifier is not initialized, it will not be used during the forward process\n",
            "[2024/10/15 17:26:07] ppocr WARNING: Since the angle classifier is not initialized, it will not be used during the forward process\n",
            "[2024/10/15 17:26:07] ppocr WARNING: Since the angle classifier is not initialized, it will not be used during the forward process\n",
            "[2024/10/15 17:26:07] ppocr WARNING: Since the angle classifier is not initialized, it will not be used during the forward process\n",
            "[2024/10/15 17:26:08] ppocr WARNING: Since the angle classifier is not initialized, it will not be used during the forward process\n",
            "[2024/10/15 17:26:08] ppocr WARNING: Since the angle classifier is not initialized, it will not be used during the forward process\n",
            "[2024/10/15 17:26:08] ppocr WARNING: Since the angle classifier is not initialized, it will not be used during the forward process\n",
            "[2024/10/15 17:26:08] ppocr WARNING: Since the angle classifier is not initialized, it will not be used during the forward process\n",
            "[2024/10/15 17:26:09] ppocr WARNING: Since the angle classifier is not initialized, it will not be used during the forward process\n",
            "[2024/10/15 17:26:09] ppocr WARNING: Since the angle classifier is not initialized, it will not be used during the forward process\n",
            "[2024/10/15 17:26:09] ppocr WARNING: Since the angle classifier is not initialized, it will not be used during the forward process\n",
            "[2024/10/15 17:26:09] ppocr WARNING: Since the angle classifier is not initialized, it will not be used during the forward process\n",
            "[2024/10/15 17:26:10] ppocr WARNING: Since the angle classifier is not initialized, it will not be used during the forward process\n",
            "[2024/10/15 17:26:11] ppocr WARNING: Since the angle classifier is not initialized, it will not be used during the forward process\n",
            "[2024/10/15 17:26:11] ppocr WARNING: Since the angle classifier is not initialized, it will not be used during the forward process\n",
            "[2024/10/15 17:26:12] ppocr WARNING: Since the angle classifier is not initialized, it will not be used during the forward process\n",
            "[2024/10/15 17:26:12] ppocr WARNING: Since the angle classifier is not initialized, it will not be used during the forward process\n",
            "[2024/10/15 17:26:13] ppocr WARNING: Since the angle classifier is not initialized, it will not be used during the forward process\n",
            "[2024/10/15 17:26:13] ppocr WARNING: Since the angle classifier is not initialized, it will not be used during the forward process\n",
            "[2024/10/15 17:26:14] ppocr WARNING: Since the angle classifier is not initialized, it will not be used during the forward process\n",
            "[2024/10/15 17:26:14] ppocr WARNING: Since the angle classifier is not initialized, it will not be used during the forward process\n",
            "[2024/10/15 17:26:14] ppocr WARNING: Since the angle classifier is not initialized, it will not be used during the forward process\n",
            "[2024/10/15 17:26:15] ppocr WARNING: Since the angle classifier is not initialized, it will not be used during the forward process\n",
            "[2024/10/15 17:26:15] ppocr WARNING: Since the angle classifier is not initialized, it will not be used during the forward process\n",
            "[2024/10/15 17:26:16] ppocr WARNING: Since the angle classifier is not initialized, it will not be used during the forward process\n",
            "[2024/10/15 17:26:16] ppocr WARNING: Since the angle classifier is not initialized, it will not be used during the forward process\n",
            "[2024/10/15 17:26:17] ppocr WARNING: Since the angle classifier is not initialized, it will not be used during the forward process\n",
            "[2024/10/15 17:26:17] ppocr WARNING: Since the angle classifier is not initialized, it will not be used during the forward process\n",
            "[2024/10/15 17:26:17] ppocr WARNING: Since the angle classifier is not initialized, it will not be used during the forward process\n",
            "[2024/10/15 17:26:18] ppocr WARNING: Since the angle classifier is not initialized, it will not be used during the forward process\n",
            "[2024/10/15 17:26:18] ppocr WARNING: Since the angle classifier is not initialized, it will not be used during the forward process\n",
            "[2024/10/15 17:26:18] ppocr WARNING: Since the angle classifier is not initialized, it will not be used during the forward process\n",
            "[2024/10/15 17:26:19] ppocr WARNING: Since the angle classifier is not initialized, it will not be used during the forward process\n",
            "[2024/10/15 17:26:19] ppocr WARNING: Since the angle classifier is not initialized, it will not be used during the forward process\n",
            "[2024/10/15 17:26:20] ppocr WARNING: Since the angle classifier is not initialized, it will not be used during the forward process\n",
            "[2024/10/15 17:26:21] ppocr WARNING: Since the angle classifier is not initialized, it will not be used during the forward process\n",
            "[2024/10/15 17:26:21] ppocr WARNING: Since the angle classifier is not initialized, it will not be used during the forward process\n",
            "[2024/10/15 17:26:21] ppocr WARNING: Since the angle classifier is not initialized, it will not be used during the forward process\n",
            "[2024/10/15 17:26:22] ppocr WARNING: Since the angle classifier is not initialized, it will not be used during the forward process\n",
            "[2024/10/15 17:26:22] ppocr WARNING: Since the angle classifier is not initialized, it will not be used during the forward process\n",
            "[2024/10/15 17:26:22] ppocr WARNING: Since the angle classifier is not initialized, it will not be used during the forward process\n",
            "[2024/10/15 17:26:22] ppocr WARNING: Since the angle classifier is not initialized, it will not be used during the forward process\n",
            "[2024/10/15 17:26:22] ppocr WARNING: Since the angle classifier is not initialized, it will not be used during the forward process\n",
            "[2024/10/15 17:26:22] ppocr WARNING: Since the angle classifier is not initialized, it will not be used during the forward process\n",
            "[2024/10/15 17:26:23] ppocr WARNING: Since the angle classifier is not initialized, it will not be used during the forward process\n",
            "[2024/10/15 17:26:23] ppocr WARNING: Since the angle classifier is not initialized, it will not be used during the forward process\n",
            "[2024/10/15 17:26:23] ppocr WARNING: Since the angle classifier is not initialized, it will not be used during the forward process\n",
            "[2024/10/15 17:26:23] ppocr WARNING: Since the angle classifier is not initialized, it will not be used during the forward process\n",
            "[2024/10/15 17:26:23] ppocr WARNING: Since the angle classifier is not initialized, it will not be used during the forward process\n",
            "[2024/10/15 17:26:23] ppocr WARNING: Since the angle classifier is not initialized, it will not be used during the forward process\n",
            "[2024/10/15 17:26:23] ppocr WARNING: Since the angle classifier is not initialized, it will not be used during the forward process\n",
            "[2024/10/15 17:26:23] ppocr WARNING: Since the angle classifier is not initialized, it will not be used during the forward process\n",
            "[2024/10/15 17:26:23] ppocr WARNING: Since the angle classifier is not initialized, it will not be used during the forward process\n",
            "[2024/10/15 17:26:23] ppocr WARNING: Since the angle classifier is not initialized, it will not be used during the forward process\n",
            "[2024/10/15 17:26:23] ppocr WARNING: Since the angle classifier is not initialized, it will not be used during the forward process\n",
            "[2024/10/15 17:26:23] ppocr WARNING: Since the angle classifier is not initialized, it will not be used during the forward process\n",
            "[2024/10/15 17:26:24] ppocr WARNING: Since the angle classifier is not initialized, it will not be used during the forward process\n",
            "[2024/10/15 17:26:24] ppocr WARNING: Since the angle classifier is not initialized, it will not be used during the forward process\n",
            "[2024/10/15 17:26:24] ppocr WARNING: Since the angle classifier is not initialized, it will not be used during the forward process\n",
            "[2024/10/15 17:26:24] ppocr WARNING: Since the angle classifier is not initialized, it will not be used during the forward process\n",
            "[2024/10/15 17:26:25] ppocr WARNING: Since the angle classifier is not initialized, it will not be used during the forward process\n",
            "[2024/10/15 17:26:25] ppocr WARNING: Since the angle classifier is not initialized, it will not be used during the forward process\n",
            "[2024/10/15 17:26:25] ppocr WARNING: Since the angle classifier is not initialized, it will not be used during the forward process\n",
            "[2024/10/15 17:26:25] ppocr WARNING: Since the angle classifier is not initialized, it will not be used during the forward process\n",
            "[2024/10/15 17:26:26] ppocr WARNING: Since the angle classifier is not initialized, it will not be used during the forward process\n",
            "[2024/10/15 17:26:26] ppocr WARNING: Since the angle classifier is not initialized, it will not be used during the forward process\n",
            "[2024/10/15 17:26:26] ppocr WARNING: Since the angle classifier is not initialized, it will not be used during the forward process\n",
            "[2024/10/15 17:26:26] ppocr WARNING: Since the angle classifier is not initialized, it will not be used during the forward process\n",
            "[2024/10/15 17:26:27] ppocr WARNING: Since the angle classifier is not initialized, it will not be used during the forward process\n",
            "[2024/10/15 17:26:27] ppocr WARNING: Since the angle classifier is not initialized, it will not be used during the forward process\n",
            "[2024/10/15 17:26:27] ppocr WARNING: Since the angle classifier is not initialized, it will not be used during the forward process\n",
            "[2024/10/15 17:26:28] ppocr WARNING: Since the angle classifier is not initialized, it will not be used during the forward process\n",
            "[2024/10/15 17:26:28] ppocr WARNING: Since the angle classifier is not initialized, it will not be used during the forward process\n",
            "[2024/10/15 17:26:28] ppocr WARNING: Since the angle classifier is not initialized, it will not be used during the forward process\n",
            "[2024/10/15 17:26:29] ppocr WARNING: Since the angle classifier is not initialized, it will not be used during the forward process\n",
            "[2024/10/15 17:26:29] ppocr WARNING: Since the angle classifier is not initialized, it will not be used during the forward process\n",
            "[2024/10/15 17:26:29] ppocr WARNING: Since the angle classifier is not initialized, it will not be used during the forward process\n",
            "[2024/10/15 17:26:29] ppocr WARNING: Since the angle classifier is not initialized, it will not be used during the forward process\n",
            "[2024/10/15 17:26:29] ppocr WARNING: Since the angle classifier is not initialized, it will not be used during the forward process\n",
            "[2024/10/15 17:26:29] ppocr WARNING: Since the angle classifier is not initialized, it will not be used during the forward process\n",
            "[2024/10/15 17:26:30] ppocr WARNING: Since the angle classifier is not initialized, it will not be used during the forward process\n",
            "[2024/10/15 17:26:30] ppocr WARNING: Since the angle classifier is not initialized, it will not be used during the forward process\n",
            "[2024/10/15 17:26:30] ppocr WARNING: Since the angle classifier is not initialized, it will not be used during the forward process\n",
            "[2024/10/15 17:26:30] ppocr WARNING: Since the angle classifier is not initialized, it will not be used during the forward process\n",
            "[2024/10/15 17:26:30] ppocr WARNING: Since the angle classifier is not initialized, it will not be used during the forward process\n",
            "[2024/10/15 17:26:30] ppocr WARNING: Since the angle classifier is not initialized, it will not be used during the forward process\n",
            "[2024/10/15 17:26:30] ppocr WARNING: Since the angle classifier is not initialized, it will not be used during the forward process\n",
            "[2024/10/15 17:26:31] ppocr WARNING: Since the angle classifier is not initialized, it will not be used during the forward process\n",
            "[2024/10/15 17:26:31] ppocr WARNING: Since the angle classifier is not initialized, it will not be used during the forward process\n",
            "[2024/10/15 17:26:31] ppocr WARNING: Since the angle classifier is not initialized, it will not be used during the forward process\n",
            "[2024/10/15 17:26:31] ppocr WARNING: Since the angle classifier is not initialized, it will not be used during the forward process\n",
            "[2024/10/15 17:26:31] ppocr WARNING: Since the angle classifier is not initialized, it will not be used during the forward process\n",
            "[2024/10/15 17:26:31] ppocr WARNING: Since the angle classifier is not initialized, it will not be used during the forward process\n",
            "[2024/10/15 17:26:31] ppocr WARNING: Since the angle classifier is not initialized, it will not be used during the forward process\n",
            "[2024/10/15 17:26:31] ppocr WARNING: Since the angle classifier is not initialized, it will not be used during the forward process\n",
            "[2024/10/15 17:26:31] ppocr WARNING: Since the angle classifier is not initialized, it will not be used during the forward process\n",
            "[2024/10/15 17:26:32] ppocr WARNING: Since the angle classifier is not initialized, it will not be used during the forward process\n",
            "[2024/10/15 17:26:32] ppocr WARNING: Since the angle classifier is not initialized, it will not be used during the forward process\n",
            "[2024/10/15 17:26:32] ppocr WARNING: Since the angle classifier is not initialized, it will not be used during the forward process\n",
            "[2024/10/15 17:26:32] ppocr WARNING: Since the angle classifier is not initialized, it will not be used during the forward process\n",
            "[2024/10/15 17:26:32] ppocr WARNING: Since the angle classifier is not initialized, it will not be used during the forward process\n",
            "[2024/10/15 17:26:32] ppocr WARNING: Since the angle classifier is not initialized, it will not be used during the forward process\n",
            "[2024/10/15 17:26:33] ppocr WARNING: Since the angle classifier is not initialized, it will not be used during the forward process\n",
            "[2024/10/15 17:26:33] ppocr WARNING: Since the angle classifier is not initialized, it will not be used during the forward process\n",
            "[2024/10/15 17:26:33] ppocr WARNING: Since the angle classifier is not initialized, it will not be used during the forward process\n",
            "[2024/10/15 17:26:33] ppocr WARNING: Since the angle classifier is not initialized, it will not be used during the forward process\n",
            "[2024/10/15 17:26:33] ppocr WARNING: Since the angle classifier is not initialized, it will not be used during the forward process\n",
            "[2024/10/15 17:26:33] ppocr WARNING: Since the angle classifier is not initialized, it will not be used during the forward process\n",
            "[2024/10/15 17:26:33] ppocr WARNING: Since the angle classifier is not initialized, it will not be used during the forward process\n",
            "[2024/10/15 17:26:34] ppocr WARNING: Since the angle classifier is not initialized, it will not be used during the forward process\n",
            "[2024/10/15 17:26:34] ppocr WARNING: Since the angle classifier is not initialized, it will not be used during the forward process\n"
          ]
        }
      ],
      "source": [
        "# For each cell OCR\n",
        "results = []\n",
        "for cell in cells:\n",
        "  cell_image = image.crop(cell)\n",
        "  result = ocr.ocr(PIL_to_cv(cell_image))\n",
        "  results.append(result)"
      ]
    },
    {
      "cell_type": "code",
      "execution_count": 31,
      "metadata": {
        "colab": {
          "base_uri": "https://localhost:8080/"
        },
        "id": "5MT2wsqZXSDL",
        "outputId": "b8ddf493-3135-485c-a528-e7d0d6fee1cd"
      },
      "outputs": [
        {
          "name": "stdout",
          "output_type": "stream",
          "text": [
            "Race\n",
            "Asian\n",
            "Asian\n",
            "Asi\n",
            "ian\n",
            "Cau\n",
            "casian\n",
            "(n=12\n",
            "Caucass\n",
            "Number of subjects\n",
            "12\n",
            "6\n",
            "6\n",
            "6\n",
            "12\n",
            "-.\n",
            "5\n",
            "Sex\n",
            "Male\n",
            "Maie\n",
            "Female\n",
            "Fema\n",
            "e\n",
            "Fema\n",
            "Femae\n",
            "Route of\n",
            "sc\n",
            "sc\n",
            "sc\n",
            "sc\n",
            "--\n",
            "SC\n",
            " \n",
            "sc\n",
            "1\n",
            "sc\n",
            "Daily FSH\n",
            "225\n",
            "225\n",
            "150\n",
            "300\n",
            "150\n",
            "-\n",
            "150\n",
            "-.\n",
            "300\n",
            "of daily\n",
            "1/1\n",
            "1\n",
            "1/1\n",
            "1/1\n",
            "1/1\n",
            "1/7\n",
            "1/1\n",
            "njections/total #\n",
            "Mean\n",
            "41.5\n",
            "32.2\n",
            "28.9\n",
            "24.\n",
            "23.6\n",
            "26.3\n",
            "SLadarddevtadon\n",
            "13.9\n",
            "4.2\n",
            "O.\n",
            "S.3\n",
            "10.\n",
            "3.3\n",
            "Median\n",
            "40.0\n",
            "33.2\n",
            "27.6\n",
            "24.3\n",
            "26.\n",
            "26 \n",
            "Median absolut.\n",
            "15.8\n",
            "8.6\n",
            "10\n",
            "8.3\n",
            "Min\n",
            "200\n",
            "25.1\n",
            "20.9\n",
            "21.9\n",
            "8.1\n",
            "106\n",
            "226\n"
          ]
        }
      ],
      "source": [
        "for result in results:\n",
        "  if result and result[0]:\n",
        "      print(result[0][0][1][0])\n",
        "  else:\n",
        "      continue"
      ]
    },
    {
      "cell_type": "code",
      "execution_count": 32,
      "metadata": {
        "colab": {
          "base_uri": "https://localhost:8080/"
        },
        "id": "jQSxYvonZDPi",
        "outputId": "6efe5770-cf41-4039-d80d-634844daea09"
      },
      "outputs": [
        {
          "name": "stdout",
          "output_type": "stream",
          "text": [
            "Requirement already satisfied: pandas in /usr/local/lib/python3.10/dist-packages (2.2.2)\n",
            "Requirement already satisfied: numpy>=1.22.4 in /usr/local/lib/python3.10/dist-packages (from pandas) (1.26.4)\n",
            "Requirement already satisfied: python-dateutil>=2.8.2 in /usr/local/lib/python3.10/dist-packages (from pandas) (2.8.2)\n",
            "Requirement already satisfied: pytz>=2020.1 in /usr/local/lib/python3.10/dist-packages (from pandas) (2024.2)\n",
            "Requirement already satisfied: tzdata>=2022.7 in /usr/local/lib/python3.10/dist-packages (from pandas) (2024.2)\n",
            "Requirement already satisfied: six>=1.5 in /usr/local/lib/python3.10/dist-packages (from python-dateutil>=2.8.2->pandas) (1.16.0)\n"
          ]
        }
      ],
      "source": [
        "%pip install pandas"
      ]
    },
    {
      "cell_type": "code",
      "execution_count": 33,
      "metadata": {
        "id": "puBC4XanZFmf"
      },
      "outputs": [],
      "source": [
        "import pandas as pd"
      ]
    },
    {
      "cell_type": "code",
      "execution_count": 34,
      "metadata": {
        "id": "XxtHf3OfX8a5"
      },
      "outputs": [],
      "source": [
        "num_rows = len(sorted_rows)\n",
        "num_cols = len(sorted_cols)\n",
        "\n",
        "df = pd.DataFrame(index=range(num_rows), columns=range(num_cols))"
      ]
    },
    {
      "cell_type": "code",
      "execution_count": 36,
      "metadata": {
        "id": "HST7i7VNZCCM"
      },
      "outputs": [],
      "source": [
        "for i, result in enumerate(results):\n",
        "  if result and result[0] and result[0][0] and result[0][0][1] and result[0][0][1][0]:\n",
        "      df.iloc[i // num_cols, i % num_cols] = result[0][0][1][0]\n",
        "  else:\n",
        "      df.iloc[i // num_cols, i % num_cols] = None"
      ]
    },
    {
      "cell_type": "code",
      "execution_count": 37,
      "metadata": {
        "colab": {
          "base_uri": "https://localhost:8080/"
        },
        "id": "QSapmNDfbZPP",
        "outputId": "53586f93-a646-48eb-9de7-bdf9e65a05db"
      },
      "outputs": [
        {
          "data": {
            "text/plain": [
              "0"
            ]
          },
          "execution_count": 37,
          "metadata": {},
          "output_type": "execute_result"
        }
      ],
      "source": [
        "4 % 4"
      ]
    },
    {
      "cell_type": "code",
      "execution_count": 38,
      "metadata": {
        "colab": {
          "base_uri": "https://localhost:8080/",
          "height": 421
        },
        "id": "l0JatLTCZ35s",
        "outputId": "f21024cc-0c3b-4276-fe82-18627161bfa6"
      },
      "outputs": [
        {
          "data": {
            "application/vnd.google.colaboratory.intrinsic+json": {
              "summary": "{\n  \"name\": \"df\",\n  \"rows\": 12,\n  \"fields\": [\n    {\n      \"column\": 0,\n      \"properties\": {\n        \"dtype\": \"string\",\n        \"num_unique_values\": 12,\n        \"samples\": [\n          \"Median absolut.\",\n          \"Median\",\n          \"Race\"\n        ],\n        \"semantic_type\": \"\",\n        \"description\": \"\"\n      }\n    },\n    {\n      \"column\": 1,\n      \"properties\": {\n        \"dtype\": \"string\",\n        \"num_unique_values\": 11,\n        \"samples\": [\n          \"1/1\",\n          \"Asian\",\n          \"15.8\"\n        ],\n        \"semantic_type\": \"\",\n        \"description\": \"\"\n      }\n    },\n    {\n      \"column\": 2,\n      \"properties\": {\n        \"dtype\": \"string\",\n        \"num_unique_values\": 10,\n        \"samples\": [\n          \"33.2\",\n          \"6\",\n          \"1\"\n        ],\n        \"semantic_type\": \"\",\n        \"description\": \"\"\n      }\n    },\n    {\n      \"column\": 3,\n      \"properties\": {\n        \"dtype\": \"string\",\n        \"num_unique_values\": 11,\n        \"samples\": [\n          \"1/1\",\n          \"Asi\",\n          \"8.6\"\n        ],\n        \"semantic_type\": \"\",\n        \"description\": \"\"\n      }\n    },\n    {\n      \"column\": 4,\n      \"properties\": {\n        \"dtype\": \"string\",\n        \"num_unique_values\": 9,\n        \"samples\": [\n          \"24.3\",\n          \"6\",\n          \"1/1\"\n        ],\n        \"semantic_type\": \"\",\n        \"description\": \"\"\n      }\n    },\n    {\n      \"column\": 5,\n      \"properties\": {\n        \"dtype\": \"category\",\n        \"num_unique_values\": 2,\n        \"samples\": [\n          \"--\",\n          \"e\"\n        ],\n        \"semantic_type\": \"\",\n        \"description\": \"\"\n      }\n    },\n    {\n      \"column\": 6,\n      \"properties\": {\n        \"dtype\": \"string\",\n        \"num_unique_values\": 9,\n        \"samples\": [\n          \"10\",\n          \"SC\"\n        ],\n        \"semantic_type\": \"\",\n        \"description\": \"\"\n      }\n    },\n    {\n      \"column\": 7,\n      \"properties\": {\n        \"dtype\": \"category\",\n        \"num_unique_values\": 5,\n        \"samples\": [\n          \"12\",\n          \"-\"\n        ],\n        \"semantic_type\": \"\",\n        \"description\": \"\"\n      }\n    },\n    {\n      \"column\": 8,\n      \"properties\": {\n        \"dtype\": \"string\",\n        \"num_unique_values\": 7,\n        \"samples\": [\n          \"(n=12\",\n          \"sc\"\n        ],\n        \"semantic_type\": \"\",\n        \"description\": \"\"\n      }\n    },\n    {\n      \"column\": 9,\n      \"properties\": {\n        \"dtype\": \"category\",\n        \"num_unique_values\": 2,\n        \"samples\": [\n          \"1\",\n          \"-.\"\n        ],\n        \"semantic_type\": \"\",\n        \"description\": \"\"\n      }\n    },\n    {\n      \"column\": 10,\n      \"properties\": {\n        \"dtype\": \"string\",\n        \"num_unique_values\": 10,\n        \"samples\": [\n          \"26 \",\n          \"5\"\n        ],\n        \"semantic_type\": \"\",\n        \"description\": \"\"\n      }\n    }\n  ]\n}",
              "type": "dataframe",
              "variable_name": "df"
            },
            "text/html": [
              "\n",
              "  <div id=\"df-ff88a167-590f-4b32-81b7-990d9f9054ed\" class=\"colab-df-container\">\n",
              "    <div>\n",
              "<style scoped>\n",
              "    .dataframe tbody tr th:only-of-type {\n",
              "        vertical-align: middle;\n",
              "    }\n",
              "\n",
              "    .dataframe tbody tr th {\n",
              "        vertical-align: top;\n",
              "    }\n",
              "\n",
              "    .dataframe thead th {\n",
              "        text-align: right;\n",
              "    }\n",
              "</style>\n",
              "<table border=\"1\" class=\"dataframe\">\n",
              "  <thead>\n",
              "    <tr style=\"text-align: right;\">\n",
              "      <th></th>\n",
              "      <th>0</th>\n",
              "      <th>1</th>\n",
              "      <th>2</th>\n",
              "      <th>3</th>\n",
              "      <th>4</th>\n",
              "      <th>5</th>\n",
              "      <th>6</th>\n",
              "      <th>7</th>\n",
              "      <th>8</th>\n",
              "      <th>9</th>\n",
              "      <th>10</th>\n",
              "    </tr>\n",
              "  </thead>\n",
              "  <tbody>\n",
              "    <tr>\n",
              "      <th>0</th>\n",
              "      <td>Race</td>\n",
              "      <td>Asian</td>\n",
              "      <td>Asian</td>\n",
              "      <td>Asi</td>\n",
              "      <td>ian</td>\n",
              "      <td>None</td>\n",
              "      <td>Cau</td>\n",
              "      <td>casian</td>\n",
              "      <td>(n=12</td>\n",
              "      <td>None</td>\n",
              "      <td>Caucass</td>\n",
              "    </tr>\n",
              "    <tr>\n",
              "      <th>1</th>\n",
              "      <td>Number of subjects</td>\n",
              "      <td>12</td>\n",
              "      <td>6</td>\n",
              "      <td>6</td>\n",
              "      <td>6</td>\n",
              "      <td>None</td>\n",
              "      <td>None</td>\n",
              "      <td>12</td>\n",
              "      <td>None</td>\n",
              "      <td>-.</td>\n",
              "      <td>5</td>\n",
              "    </tr>\n",
              "    <tr>\n",
              "      <th>2</th>\n",
              "      <td>Sex</td>\n",
              "      <td>Male</td>\n",
              "      <td>Maie</td>\n",
              "      <td>Female</td>\n",
              "      <td>Fema</td>\n",
              "      <td>e</td>\n",
              "      <td>None</td>\n",
              "      <td>Fema</td>\n",
              "      <td>None</td>\n",
              "      <td>None</td>\n",
              "      <td>Femae</td>\n",
              "    </tr>\n",
              "    <tr>\n",
              "      <th>3</th>\n",
              "      <td>Route of</td>\n",
              "      <td>sc</td>\n",
              "      <td>sc</td>\n",
              "      <td>sc</td>\n",
              "      <td>sc</td>\n",
              "      <td>--</td>\n",
              "      <td>SC</td>\n",
              "      <td></td>\n",
              "      <td>sc</td>\n",
              "      <td>1</td>\n",
              "      <td>sc</td>\n",
              "    </tr>\n",
              "    <tr>\n",
              "      <th>4</th>\n",
              "      <td>Daily FSH</td>\n",
              "      <td>225</td>\n",
              "      <td>225</td>\n",
              "      <td>150</td>\n",
              "      <td>300</td>\n",
              "      <td>None</td>\n",
              "      <td>150</td>\n",
              "      <td>-</td>\n",
              "      <td>150</td>\n",
              "      <td>-.</td>\n",
              "      <td>300</td>\n",
              "    </tr>\n",
              "    <tr>\n",
              "      <th>5</th>\n",
              "      <td>of daily</td>\n",
              "      <td>1/1</td>\n",
              "      <td>1</td>\n",
              "      <td>1/1</td>\n",
              "      <td>1/1</td>\n",
              "      <td>None</td>\n",
              "      <td>1/1</td>\n",
              "      <td>None</td>\n",
              "      <td>1/7</td>\n",
              "      <td>None</td>\n",
              "      <td>1/1</td>\n",
              "    </tr>\n",
              "    <tr>\n",
              "      <th>6</th>\n",
              "      <td>njections/total #</td>\n",
              "      <td>None</td>\n",
              "      <td>None</td>\n",
              "      <td>None</td>\n",
              "      <td>None</td>\n",
              "      <td>None</td>\n",
              "      <td>None</td>\n",
              "      <td>None</td>\n",
              "      <td>None</td>\n",
              "      <td>None</td>\n",
              "      <td>None</td>\n",
              "    </tr>\n",
              "    <tr>\n",
              "      <th>7</th>\n",
              "      <td>Mean</td>\n",
              "      <td>41.5</td>\n",
              "      <td>32.2</td>\n",
              "      <td>28.9</td>\n",
              "      <td>None</td>\n",
              "      <td>None</td>\n",
              "      <td>24.</td>\n",
              "      <td>None</td>\n",
              "      <td>23.6</td>\n",
              "      <td>None</td>\n",
              "      <td>26.3</td>\n",
              "    </tr>\n",
              "    <tr>\n",
              "      <th>8</th>\n",
              "      <td>SLadarddevtadon</td>\n",
              "      <td>13.9</td>\n",
              "      <td>4.2</td>\n",
              "      <td>O.</td>\n",
              "      <td>S.3</td>\n",
              "      <td>None</td>\n",
              "      <td>10.</td>\n",
              "      <td>None</td>\n",
              "      <td>None</td>\n",
              "      <td>None</td>\n",
              "      <td>3.3</td>\n",
              "    </tr>\n",
              "    <tr>\n",
              "      <th>9</th>\n",
              "      <td>Median</td>\n",
              "      <td>40.0</td>\n",
              "      <td>33.2</td>\n",
              "      <td>27.6</td>\n",
              "      <td>24.3</td>\n",
              "      <td>None</td>\n",
              "      <td>26.</td>\n",
              "      <td>None</td>\n",
              "      <td>None</td>\n",
              "      <td>None</td>\n",
              "      <td>26</td>\n",
              "    </tr>\n",
              "    <tr>\n",
              "      <th>10</th>\n",
              "      <td>Median absolut.</td>\n",
              "      <td>15.8</td>\n",
              "      <td>None</td>\n",
              "      <td>8.6</td>\n",
              "      <td>None</td>\n",
              "      <td>None</td>\n",
              "      <td>10</td>\n",
              "      <td>None</td>\n",
              "      <td>8.3</td>\n",
              "      <td>None</td>\n",
              "      <td>None</td>\n",
              "    </tr>\n",
              "    <tr>\n",
              "      <th>11</th>\n",
              "      <td>Min</td>\n",
              "      <td>200</td>\n",
              "      <td>25.1</td>\n",
              "      <td>20.9</td>\n",
              "      <td>21.9</td>\n",
              "      <td>None</td>\n",
              "      <td>8.1</td>\n",
              "      <td>None</td>\n",
              "      <td>106</td>\n",
              "      <td>None</td>\n",
              "      <td>226</td>\n",
              "    </tr>\n",
              "  </tbody>\n",
              "</table>\n",
              "</div>\n",
              "    <div class=\"colab-df-buttons\">\n",
              "\n",
              "  <div class=\"colab-df-container\">\n",
              "    <button class=\"colab-df-convert\" onclick=\"convertToInteractive('df-ff88a167-590f-4b32-81b7-990d9f9054ed')\"\n",
              "            title=\"Convert this dataframe to an interactive table.\"\n",
              "            style=\"display:none;\">\n",
              "\n",
              "  <svg xmlns=\"http://www.w3.org/2000/svg\" height=\"24px\" viewBox=\"0 -960 960 960\">\n",
              "    <path d=\"M120-120v-720h720v720H120Zm60-500h600v-160H180v160Zm220 220h160v-160H400v160Zm0 220h160v-160H400v160ZM180-400h160v-160H180v160Zm440 0h160v-160H620v160ZM180-180h160v-160H180v160Zm440 0h160v-160H620v160Z\"/>\n",
              "  </svg>\n",
              "    </button>\n",
              "\n",
              "  <style>\n",
              "    .colab-df-container {\n",
              "      display:flex;\n",
              "      gap: 12px;\n",
              "    }\n",
              "\n",
              "    .colab-df-convert {\n",
              "      background-color: #E8F0FE;\n",
              "      border: none;\n",
              "      border-radius: 50%;\n",
              "      cursor: pointer;\n",
              "      display: none;\n",
              "      fill: #1967D2;\n",
              "      height: 32px;\n",
              "      padding: 0 0 0 0;\n",
              "      width: 32px;\n",
              "    }\n",
              "\n",
              "    .colab-df-convert:hover {\n",
              "      background-color: #E2EBFA;\n",
              "      box-shadow: 0px 1px 2px rgba(60, 64, 67, 0.3), 0px 1px 3px 1px rgba(60, 64, 67, 0.15);\n",
              "      fill: #174EA6;\n",
              "    }\n",
              "\n",
              "    .colab-df-buttons div {\n",
              "      margin-bottom: 4px;\n",
              "    }\n",
              "\n",
              "    [theme=dark] .colab-df-convert {\n",
              "      background-color: #3B4455;\n",
              "      fill: #D2E3FC;\n",
              "    }\n",
              "\n",
              "    [theme=dark] .colab-df-convert:hover {\n",
              "      background-color: #434B5C;\n",
              "      box-shadow: 0px 1px 3px 1px rgba(0, 0, 0, 0.15);\n",
              "      filter: drop-shadow(0px 1px 2px rgba(0, 0, 0, 0.3));\n",
              "      fill: #FFFFFF;\n",
              "    }\n",
              "  </style>\n",
              "\n",
              "    <script>\n",
              "      const buttonEl =\n",
              "        document.querySelector('#df-ff88a167-590f-4b32-81b7-990d9f9054ed button.colab-df-convert');\n",
              "      buttonEl.style.display =\n",
              "        google.colab.kernel.accessAllowed ? 'block' : 'none';\n",
              "\n",
              "      async function convertToInteractive(key) {\n",
              "        const element = document.querySelector('#df-ff88a167-590f-4b32-81b7-990d9f9054ed');\n",
              "        const dataTable =\n",
              "          await google.colab.kernel.invokeFunction('convertToInteractive',\n",
              "                                                    [key], {});\n",
              "        if (!dataTable) return;\n",
              "\n",
              "        const docLinkHtml = 'Like what you see? Visit the ' +\n",
              "          '<a target=\"_blank\" href=https://colab.research.google.com/notebooks/data_table.ipynb>data table notebook</a>'\n",
              "          + ' to learn more about interactive tables.';\n",
              "        element.innerHTML = '';\n",
              "        dataTable['output_type'] = 'display_data';\n",
              "        await google.colab.output.renderOutput(dataTable, element);\n",
              "        const docLink = document.createElement('div');\n",
              "        docLink.innerHTML = docLinkHtml;\n",
              "        element.appendChild(docLink);\n",
              "      }\n",
              "    </script>\n",
              "  </div>\n",
              "\n",
              "\n",
              "<div id=\"df-2b049847-023b-4ee1-a17f-76f82cd5d0b2\">\n",
              "  <button class=\"colab-df-quickchart\" onclick=\"quickchart('df-2b049847-023b-4ee1-a17f-76f82cd5d0b2')\"\n",
              "            title=\"Suggest charts\"\n",
              "            style=\"display:none;\">\n",
              "\n",
              "<svg xmlns=\"http://www.w3.org/2000/svg\" height=\"24px\"viewBox=\"0 0 24 24\"\n",
              "     width=\"24px\">\n",
              "    <g>\n",
              "        <path d=\"M19 3H5c-1.1 0-2 .9-2 2v14c0 1.1.9 2 2 2h14c1.1 0 2-.9 2-2V5c0-1.1-.9-2-2-2zM9 17H7v-7h2v7zm4 0h-2V7h2v10zm4 0h-2v-4h2v4z\"/>\n",
              "    </g>\n",
              "</svg>\n",
              "  </button>\n",
              "\n",
              "<style>\n",
              "  .colab-df-quickchart {\n",
              "      --bg-color: #E8F0FE;\n",
              "      --fill-color: #1967D2;\n",
              "      --hover-bg-color: #E2EBFA;\n",
              "      --hover-fill-color: #174EA6;\n",
              "      --disabled-fill-color: #AAA;\n",
              "      --disabled-bg-color: #DDD;\n",
              "  }\n",
              "\n",
              "  [theme=dark] .colab-df-quickchart {\n",
              "      --bg-color: #3B4455;\n",
              "      --fill-color: #D2E3FC;\n",
              "      --hover-bg-color: #434B5C;\n",
              "      --hover-fill-color: #FFFFFF;\n",
              "      --disabled-bg-color: #3B4455;\n",
              "      --disabled-fill-color: #666;\n",
              "  }\n",
              "\n",
              "  .colab-df-quickchart {\n",
              "    background-color: var(--bg-color);\n",
              "    border: none;\n",
              "    border-radius: 50%;\n",
              "    cursor: pointer;\n",
              "    display: none;\n",
              "    fill: var(--fill-color);\n",
              "    height: 32px;\n",
              "    padding: 0;\n",
              "    width: 32px;\n",
              "  }\n",
              "\n",
              "  .colab-df-quickchart:hover {\n",
              "    background-color: var(--hover-bg-color);\n",
              "    box-shadow: 0 1px 2px rgba(60, 64, 67, 0.3), 0 1px 3px 1px rgba(60, 64, 67, 0.15);\n",
              "    fill: var(--button-hover-fill-color);\n",
              "  }\n",
              "\n",
              "  .colab-df-quickchart-complete:disabled,\n",
              "  .colab-df-quickchart-complete:disabled:hover {\n",
              "    background-color: var(--disabled-bg-color);\n",
              "    fill: var(--disabled-fill-color);\n",
              "    box-shadow: none;\n",
              "  }\n",
              "\n",
              "  .colab-df-spinner {\n",
              "    border: 2px solid var(--fill-color);\n",
              "    border-color: transparent;\n",
              "    border-bottom-color: var(--fill-color);\n",
              "    animation:\n",
              "      spin 1s steps(1) infinite;\n",
              "  }\n",
              "\n",
              "  @keyframes spin {\n",
              "    0% {\n",
              "      border-color: transparent;\n",
              "      border-bottom-color: var(--fill-color);\n",
              "      border-left-color: var(--fill-color);\n",
              "    }\n",
              "    20% {\n",
              "      border-color: transparent;\n",
              "      border-left-color: var(--fill-color);\n",
              "      border-top-color: var(--fill-color);\n",
              "    }\n",
              "    30% {\n",
              "      border-color: transparent;\n",
              "      border-left-color: var(--fill-color);\n",
              "      border-top-color: var(--fill-color);\n",
              "      border-right-color: var(--fill-color);\n",
              "    }\n",
              "    40% {\n",
              "      border-color: transparent;\n",
              "      border-right-color: var(--fill-color);\n",
              "      border-top-color: var(--fill-color);\n",
              "    }\n",
              "    60% {\n",
              "      border-color: transparent;\n",
              "      border-right-color: var(--fill-color);\n",
              "    }\n",
              "    80% {\n",
              "      border-color: transparent;\n",
              "      border-right-color: var(--fill-color);\n",
              "      border-bottom-color: var(--fill-color);\n",
              "    }\n",
              "    90% {\n",
              "      border-color: transparent;\n",
              "      border-bottom-color: var(--fill-color);\n",
              "    }\n",
              "  }\n",
              "</style>\n",
              "\n",
              "  <script>\n",
              "    async function quickchart(key) {\n",
              "      const quickchartButtonEl =\n",
              "        document.querySelector('#' + key + ' button');\n",
              "      quickchartButtonEl.disabled = true;  // To prevent multiple clicks.\n",
              "      quickchartButtonEl.classList.add('colab-df-spinner');\n",
              "      try {\n",
              "        const charts = await google.colab.kernel.invokeFunction(\n",
              "            'suggestCharts', [key], {});\n",
              "      } catch (error) {\n",
              "        console.error('Error during call to suggestCharts:', error);\n",
              "      }\n",
              "      quickchartButtonEl.classList.remove('colab-df-spinner');\n",
              "      quickchartButtonEl.classList.add('colab-df-quickchart-complete');\n",
              "    }\n",
              "    (() => {\n",
              "      let quickchartButtonEl =\n",
              "        document.querySelector('#df-2b049847-023b-4ee1-a17f-76f82cd5d0b2 button');\n",
              "      quickchartButtonEl.style.display =\n",
              "        google.colab.kernel.accessAllowed ? 'block' : 'none';\n",
              "    })();\n",
              "  </script>\n",
              "</div>\n",
              "\n",
              "  <div id=\"id_20d1cfb3-4b6f-462c-a326-aa4988d3b77c\">\n",
              "    <style>\n",
              "      .colab-df-generate {\n",
              "        background-color: #E8F0FE;\n",
              "        border: none;\n",
              "        border-radius: 50%;\n",
              "        cursor: pointer;\n",
              "        display: none;\n",
              "        fill: #1967D2;\n",
              "        height: 32px;\n",
              "        padding: 0 0 0 0;\n",
              "        width: 32px;\n",
              "      }\n",
              "\n",
              "      .colab-df-generate:hover {\n",
              "        background-color: #E2EBFA;\n",
              "        box-shadow: 0px 1px 2px rgba(60, 64, 67, 0.3), 0px 1px 3px 1px rgba(60, 64, 67, 0.15);\n",
              "        fill: #174EA6;\n",
              "      }\n",
              "\n",
              "      [theme=dark] .colab-df-generate {\n",
              "        background-color: #3B4455;\n",
              "        fill: #D2E3FC;\n",
              "      }\n",
              "\n",
              "      [theme=dark] .colab-df-generate:hover {\n",
              "        background-color: #434B5C;\n",
              "        box-shadow: 0px 1px 3px 1px rgba(0, 0, 0, 0.15);\n",
              "        filter: drop-shadow(0px 1px 2px rgba(0, 0, 0, 0.3));\n",
              "        fill: #FFFFFF;\n",
              "      }\n",
              "    </style>\n",
              "    <button class=\"colab-df-generate\" onclick=\"generateWithVariable('df')\"\n",
              "            title=\"Generate code using this dataframe.\"\n",
              "            style=\"display:none;\">\n",
              "\n",
              "  <svg xmlns=\"http://www.w3.org/2000/svg\" height=\"24px\"viewBox=\"0 0 24 24\"\n",
              "       width=\"24px\">\n",
              "    <path d=\"M7,19H8.4L18.45,9,17,7.55,7,17.6ZM5,21V16.75L18.45,3.32a2,2,0,0,1,2.83,0l1.4,1.43a1.91,1.91,0,0,1,.58,1.4,1.91,1.91,0,0,1-.58,1.4L9.25,21ZM18.45,9,17,7.55Zm-12,3A5.31,5.31,0,0,0,4.9,8.1,5.31,5.31,0,0,0,1,6.5,5.31,5.31,0,0,0,4.9,4.9,5.31,5.31,0,0,0,6.5,1,5.31,5.31,0,0,0,8.1,4.9,5.31,5.31,0,0,0,12,6.5,5.46,5.46,0,0,0,6.5,12Z\"/>\n",
              "  </svg>\n",
              "    </button>\n",
              "    <script>\n",
              "      (() => {\n",
              "      const buttonEl =\n",
              "        document.querySelector('#id_20d1cfb3-4b6f-462c-a326-aa4988d3b77c button.colab-df-generate');\n",
              "      buttonEl.style.display =\n",
              "        google.colab.kernel.accessAllowed ? 'block' : 'none';\n",
              "\n",
              "      buttonEl.onclick = () => {\n",
              "        google.colab.notebook.generateWithVariable('df');\n",
              "      }\n",
              "      })();\n",
              "    </script>\n",
              "  </div>\n",
              "\n",
              "    </div>\n",
              "  </div>\n"
            ],
            "text/plain": [
              "                    0      1      2       3     4     5     6       7      8   \\\n",
              "0                 Race  Asian  Asian     Asi   ian  None   Cau  casian  (n=12   \n",
              "1   Number of subjects     12      6       6     6  None  None      12   None   \n",
              "2                  Sex   Male   Maie  Female  Fema     e  None    Fema   None   \n",
              "3             Route of     sc     sc      sc    sc    --    SC             sc   \n",
              "4            Daily FSH    225    225     150   300  None   150       -    150   \n",
              "5             of daily    1/1      1     1/1   1/1  None   1/1    None    1/7   \n",
              "6    njections/total #   None   None    None  None  None  None    None   None   \n",
              "7                 Mean   41.5   32.2    28.9  None  None   24.    None   23.6   \n",
              "8      SLadarddevtadon   13.9    4.2      O.   S.3  None   10.    None   None   \n",
              "9               Median   40.0   33.2    27.6  24.3  None   26.    None   None   \n",
              "10     Median absolut.   15.8   None     8.6  None  None    10    None    8.3   \n",
              "11                 Min    200   25.1    20.9  21.9  None   8.1    None    106   \n",
              "\n",
              "      9        10  \n",
              "0   None  Caucass  \n",
              "1     -.        5  \n",
              "2   None    Femae  \n",
              "3      1       sc  \n",
              "4     -.      300  \n",
              "5   None      1/1  \n",
              "6   None     None  \n",
              "7   None     26.3  \n",
              "8   None      3.3  \n",
              "9   None      26   \n",
              "10  None     None  \n",
              "11  None      226  "
            ]
          },
          "execution_count": 38,
          "metadata": {},
          "output_type": "execute_result"
        }
      ],
      "source": [
        "df"
      ]
    },
    {
      "cell_type": "code",
      "execution_count": 39,
      "metadata": {
        "colab": {
          "base_uri": "https://localhost:8080/"
        },
        "id": "WKWLIUegZaqY",
        "outputId": "5e705720-f4d6-4a88-c4b9-6c41269db977"
      },
      "outputs": [
        {
          "data": {
            "text/plain": [
              "['Race',\n",
              " 'Asian',\n",
              " 'Asian',\n",
              " 'Asi',\n",
              " 'ian',\n",
              " None,\n",
              " 'Cau',\n",
              " 'casian',\n",
              " '(n=12',\n",
              " None,\n",
              " 'Caucass']"
            ]
          },
          "execution_count": 39,
          "metadata": {},
          "output_type": "execute_result"
        }
      ],
      "source": [
        "df.iloc[0].tolist()\n"
      ]
    },
    {
      "cell_type": "code",
      "execution_count": 40,
      "metadata": {
        "id": "xbWpRplyZbZT"
      },
      "outputs": [],
      "source": [
        "df.columns = df.iloc[0].tolist()"
      ]
    },
    {
      "cell_type": "code",
      "execution_count": 41,
      "metadata": {
        "colab": {
          "base_uri": "https://localhost:8080/"
        },
        "id": "cv5LQuy2ZiBB",
        "outputId": "98b15ec9-461b-490c-ae2a-fd15bb675f89"
      },
      "outputs": [
        {
          "data": {
            "text/plain": [
              "Index([   'Race',   'Asian',   'Asian',     'Asi',     'ian',      None,\n",
              "           'Cau',  'casian',   '(n=12',      None, 'Caucass'],\n",
              "      dtype='object')"
            ]
          },
          "execution_count": 41,
          "metadata": {},
          "output_type": "execute_result"
        }
      ],
      "source": [
        "df.columns"
      ]
    },
    {
      "cell_type": "code",
      "execution_count": 42,
      "metadata": {
        "id": "nmYYApc0adBU"
      },
      "outputs": [],
      "source": [
        "df = df.iloc[1:]"
      ]
    },
    {
      "cell_type": "code",
      "execution_count": null,
      "metadata": {
        "id": "rI7_6Wyfahhg"
      },
      "outputs": [],
      "source": [
        "df.to_csv(\"table.csv\", index=False)"
      ]
    },
    {
      "cell_type": "markdown",
      "metadata": {},
      "source": [
        "## Now we can do this for all the images and save the outputs in the csv_out folder"
      ]
    },
    {
      "cell_type": "code",
      "execution_count": 44,
      "metadata": {
        "id": "x6kh_iz1asRG"
      },
      "outputs": [],
      "source": [
        "import os\n",
        "from PIL import Image\n",
        "import cv2\n",
        "import numpy as np\n",
        "import pandas as pd\n",
        "from paddleocr import PaddleOCR"
      ]
    },
    {
      "cell_type": "code",
      "execution_count": 45,
      "metadata": {
        "id": "3oMt7QuXQQnZ"
      },
      "outputs": [],
      "source": [
        "ocr = PaddleOCR(\n",
        "    lang=\"en\",\n",
        "    use_gpu=False,\n",
        "    show_log=False,\n",
        ")"
      ]
    },
    {
      "cell_type": "code",
      "execution_count": 46,
      "metadata": {
        "id": "k3u8bp21QTvl"
      },
      "outputs": [],
      "source": [
        "# Convert PIL image to OpenCV format\n",
        "def PIL_to_cv(pil_img):\n",
        "    return cv2.cvtColor(np.array(pil_img), cv2.COLOR_RGB2BGR)"
      ]
    },
    {
      "cell_type": "code",
      "execution_count": 47,
      "metadata": {
        "id": "MzONilsTQWhz"
      },
      "outputs": [],
      "source": [
        "# Function to sort row and column boxes\n",
        "def sort_row_col_boxes(row_boxes, col_boxes):\n",
        "    row_boxes = row_boxes.tolist()\n",
        "    col_boxes = col_boxes.tolist()\n",
        "    row_boxes.sort(key=lambda x: x[1])  # Sort by y-coordinate (top)\n",
        "    col_boxes.sort(key=lambda x: x[0])  # Sort by x-coordinate (left)\n",
        "    return row_boxes, col_boxes"
      ]
    },
    {
      "cell_type": "code",
      "execution_count": 48,
      "metadata": {
        "id": "J0ILF6cNQYBf"
      },
      "outputs": [],
      "source": [
        "# Function to generate cells by intersecting row and column boxes\n",
        "def get_cells_by_intersecting_rows_and_cols(row_boxes, col_boxes):\n",
        "    cells = []\n",
        "    for row_box in row_boxes:\n",
        "        for col_box in col_boxes:\n",
        "            cell_left_upper_x = col_box[0]\n",
        "            cell_left_upper_y = row_box[1]\n",
        "            cell_right_lower_x = col_box[2]\n",
        "            cell_right_lower_y = row_box[3]\n",
        "            cells.append(\n",
        "                [\n",
        "                    cell_left_upper_x,\n",
        "                    cell_left_upper_y,\n",
        "                    cell_right_lower_x,\n",
        "                    cell_right_lower_y,\n",
        "                ]\n",
        "            )\n",
        "    return cells"
      ]
    },
    {
      "cell_type": "code",
      "execution_count": 49,
      "metadata": {
        "id": "vXWMhMDYQav_"
      },
      "outputs": [],
      "source": [
        "# Folder paths\n",
        "input_folder = \"/content/drive/MyDrive/idp_bootcamp/week_3_assignment/table_structures\"\n",
        "output_folder = \"/content/drive/MyDrive/idp_bootcamp/week_3_assignment/csv_outs\"\n",
        "os.makedirs(output_folder, exist_ok=True)"
      ]
    },
    {
      "cell_type": "code",
      "execution_count": 50,
      "metadata": {
        "colab": {
          "base_uri": "https://localhost:8080/"
        },
        "id": "MJiWKKOyQfjv",
        "outputId": "13b2c39a-e7e8-40ce-80ab-2c0029bda227"
      },
      "outputs": [
        {
          "name": "stdout",
          "output_type": "stream",
          "text": [
            "0005ab896e95c5de6885bbf595500a8e-66.png\n",
            "Num rows initially detected: 17\n",
            "Num cols initially detected: 6\n",
            "Num table header detected: 0\n",
            "[2024/10/15 17:38:05] ppocr WARNING: Since the angle classifier is not initialized, it will not be used during the forward process\n",
            "[2024/10/15 17:38:06] ppocr WARNING: Since the angle classifier is not initialized, it will not be used during the forward process\n",
            "[2024/10/15 17:38:06] ppocr WARNING: Since the angle classifier is not initialized, it will not be used during the forward process\n",
            "[2024/10/15 17:38:06] ppocr WARNING: Since the angle classifier is not initialized, it will not be used during the forward process\n",
            "[2024/10/15 17:38:06] ppocr WARNING: Since the angle classifier is not initialized, it will not be used during the forward process\n",
            "[2024/10/15 17:38:06] ppocr WARNING: Since the angle classifier is not initialized, it will not be used during the forward process\n",
            "[2024/10/15 17:38:06] ppocr WARNING: Since the angle classifier is not initialized, it will not be used during the forward process\n",
            "[2024/10/15 17:38:06] ppocr WARNING: Since the angle classifier is not initialized, it will not be used during the forward process\n",
            "[2024/10/15 17:38:07] ppocr WARNING: Since the angle classifier is not initialized, it will not be used during the forward process\n",
            "[2024/10/15 17:38:07] ppocr WARNING: Since the angle classifier is not initialized, it will not be used during the forward process\n",
            "[2024/10/15 17:38:07] ppocr WARNING: Since the angle classifier is not initialized, it will not be used during the forward process\n",
            "[2024/10/15 17:38:07] ppocr WARNING: Since the angle classifier is not initialized, it will not be used during the forward process\n",
            "[2024/10/15 17:38:07] ppocr WARNING: Since the angle classifier is not initialized, it will not be used during the forward process\n",
            "[2024/10/15 17:38:08] ppocr WARNING: Since the angle classifier is not initialized, it will not be used during the forward process\n",
            "[2024/10/15 17:38:08] ppocr WARNING: Since the angle classifier is not initialized, it will not be used during the forward process\n",
            "[2024/10/15 17:38:09] ppocr WARNING: Since the angle classifier is not initialized, it will not be used during the forward process\n",
            "[2024/10/15 17:38:09] ppocr WARNING: Since the angle classifier is not initialized, it will not be used during the forward process\n",
            "[2024/10/15 17:38:09] ppocr WARNING: Since the angle classifier is not initialized, it will not be used during the forward process\n",
            "[2024/10/15 17:38:09] ppocr WARNING: Since the angle classifier is not initialized, it will not be used during the forward process\n",
            "[2024/10/15 17:38:10] ppocr WARNING: Since the angle classifier is not initialized, it will not be used during the forward process\n",
            "[2024/10/15 17:38:11] ppocr WARNING: Since the angle classifier is not initialized, it will not be used during the forward process\n",
            "[2024/10/15 17:38:11] ppocr WARNING: Since the angle classifier is not initialized, it will not be used during the forward process\n",
            "[2024/10/15 17:38:11] ppocr WARNING: Since the angle classifier is not initialized, it will not be used during the forward process\n",
            "[2024/10/15 17:38:12] ppocr WARNING: Since the angle classifier is not initialized, it will not be used during the forward process\n",
            "[2024/10/15 17:38:12] ppocr WARNING: Since the angle classifier is not initialized, it will not be used during the forward process\n",
            "[2024/10/15 17:38:12] ppocr WARNING: Since the angle classifier is not initialized, it will not be used during the forward process\n",
            "[2024/10/15 17:38:12] ppocr WARNING: Since the angle classifier is not initialized, it will not be used during the forward process\n",
            "[2024/10/15 17:38:13] ppocr WARNING: Since the angle classifier is not initialized, it will not be used during the forward process\n",
            "[2024/10/15 17:38:14] ppocr WARNING: Since the angle classifier is not initialized, it will not be used during the forward process\n",
            "[2024/10/15 17:38:14] ppocr WARNING: Since the angle classifier is not initialized, it will not be used during the forward process\n",
            "[2024/10/15 17:38:15] ppocr WARNING: Since the angle classifier is not initialized, it will not be used during the forward process\n",
            "[2024/10/15 17:38:15] ppocr WARNING: Since the angle classifier is not initialized, it will not be used during the forward process\n",
            "[2024/10/15 17:38:15] ppocr WARNING: Since the angle classifier is not initialized, it will not be used during the forward process\n",
            "[2024/10/15 17:38:15] ppocr WARNING: Since the angle classifier is not initialized, it will not be used during the forward process\n",
            "[2024/10/15 17:38:16] ppocr WARNING: Since the angle classifier is not initialized, it will not be used during the forward process\n",
            "[2024/10/15 17:38:16] ppocr WARNING: Since the angle classifier is not initialized, it will not be used during the forward process\n",
            "[2024/10/15 17:38:16] ppocr WARNING: Since the angle classifier is not initialized, it will not be used during the forward process\n",
            "[2024/10/15 17:38:16] ppocr WARNING: Since the angle classifier is not initialized, it will not be used during the forward process\n",
            "[2024/10/15 17:38:16] ppocr WARNING: Since the angle classifier is not initialized, it will not be used during the forward process\n",
            "[2024/10/15 17:38:16] ppocr WARNING: Since the angle classifier is not initialized, it will not be used during the forward process\n",
            "[2024/10/15 17:38:16] ppocr WARNING: Since the angle classifier is not initialized, it will not be used during the forward process\n",
            "[2024/10/15 17:38:16] ppocr WARNING: Since the angle classifier is not initialized, it will not be used during the forward process\n",
            "[2024/10/15 17:38:16] ppocr WARNING: Since the angle classifier is not initialized, it will not be used during the forward process\n",
            "[2024/10/15 17:38:16] ppocr WARNING: Since the angle classifier is not initialized, it will not be used during the forward process\n",
            "[2024/10/15 17:38:17] ppocr WARNING: Since the angle classifier is not initialized, it will not be used during the forward process\n",
            "[2024/10/15 17:38:17] ppocr WARNING: Since the angle classifier is not initialized, it will not be used during the forward process\n",
            "[2024/10/15 17:38:17] ppocr WARNING: Since the angle classifier is not initialized, it will not be used during the forward process\n",
            "[2024/10/15 17:38:17] ppocr WARNING: Since the angle classifier is not initialized, it will not be used during the forward process\n",
            "[2024/10/15 17:38:17] ppocr WARNING: Since the angle classifier is not initialized, it will not be used during the forward process\n",
            "[2024/10/15 17:38:17] ppocr WARNING: Since the angle classifier is not initialized, it will not be used during the forward process\n",
            "[2024/10/15 17:38:17] ppocr WARNING: Since the angle classifier is not initialized, it will not be used during the forward process\n",
            "[2024/10/15 17:38:17] ppocr WARNING: Since the angle classifier is not initialized, it will not be used during the forward process\n",
            "[2024/10/15 17:38:17] ppocr WARNING: Since the angle classifier is not initialized, it will not be used during the forward process\n",
            "[2024/10/15 17:38:17] ppocr WARNING: Since the angle classifier is not initialized, it will not be used during the forward process\n",
            "[2024/10/15 17:38:17] ppocr WARNING: Since the angle classifier is not initialized, it will not be used during the forward process\n",
            "[2024/10/15 17:38:17] ppocr WARNING: Since the angle classifier is not initialized, it will not be used during the forward process\n",
            "[2024/10/15 17:38:18] ppocr WARNING: Since the angle classifier is not initialized, it will not be used during the forward process\n",
            "[2024/10/15 17:38:18] ppocr WARNING: Since the angle classifier is not initialized, it will not be used during the forward process\n",
            "[2024/10/15 17:38:18] ppocr WARNING: Since the angle classifier is not initialized, it will not be used during the forward process\n",
            "[2024/10/15 17:38:18] ppocr WARNING: Since the angle classifier is not initialized, it will not be used during the forward process\n",
            "[2024/10/15 17:38:18] ppocr WARNING: Since the angle classifier is not initialized, it will not be used during the forward process\n",
            "[2024/10/15 17:38:18] ppocr WARNING: Since the angle classifier is not initialized, it will not be used during the forward process\n",
            "[2024/10/15 17:38:18] ppocr WARNING: Since the angle classifier is not initialized, it will not be used during the forward process\n",
            "[2024/10/15 17:38:18] ppocr WARNING: Since the angle classifier is not initialized, it will not be used during the forward process\n",
            "[2024/10/15 17:38:18] ppocr WARNING: Since the angle classifier is not initialized, it will not be used during the forward process\n",
            "[2024/10/15 17:38:18] ppocr WARNING: Since the angle classifier is not initialized, it will not be used during the forward process\n",
            "[2024/10/15 17:38:18] ppocr WARNING: Since the angle classifier is not initialized, it will not be used during the forward process\n",
            "[2024/10/15 17:38:19] ppocr WARNING: Since the angle classifier is not initialized, it will not be used during the forward process\n",
            "[2024/10/15 17:38:19] ppocr WARNING: Since the angle classifier is not initialized, it will not be used during the forward process\n",
            "[2024/10/15 17:38:19] ppocr WARNING: Since the angle classifier is not initialized, it will not be used during the forward process\n",
            "[2024/10/15 17:38:19] ppocr WARNING: Since the angle classifier is not initialized, it will not be used during the forward process\n",
            "[2024/10/15 17:38:19] ppocr WARNING: Since the angle classifier is not initialized, it will not be used during the forward process\n",
            "[2024/10/15 17:38:19] ppocr WARNING: Since the angle classifier is not initialized, it will not be used during the forward process\n",
            "[2024/10/15 17:38:19] ppocr WARNING: Since the angle classifier is not initialized, it will not be used during the forward process\n",
            "[2024/10/15 17:38:19] ppocr WARNING: Since the angle classifier is not initialized, it will not be used during the forward process\n",
            "[2024/10/15 17:38:19] ppocr WARNING: Since the angle classifier is not initialized, it will not be used during the forward process\n",
            "[2024/10/15 17:38:20] ppocr WARNING: Since the angle classifier is not initialized, it will not be used during the forward process\n",
            "[2024/10/15 17:38:20] ppocr WARNING: Since the angle classifier is not initialized, it will not be used during the forward process\n",
            "[2024/10/15 17:38:20] ppocr WARNING: Since the angle classifier is not initialized, it will not be used during the forward process\n",
            "[2024/10/15 17:38:20] ppocr WARNING: Since the angle classifier is not initialized, it will not be used during the forward process\n",
            "[2024/10/15 17:38:20] ppocr WARNING: Since the angle classifier is not initialized, it will not be used during the forward process\n",
            "[2024/10/15 17:38:20] ppocr WARNING: Since the angle classifier is not initialized, it will not be used during the forward process\n",
            "[2024/10/15 17:38:20] ppocr WARNING: Since the angle classifier is not initialized, it will not be used during the forward process\n",
            "[2024/10/15 17:38:20] ppocr WARNING: Since the angle classifier is not initialized, it will not be used during the forward process\n",
            "[2024/10/15 17:38:20] ppocr WARNING: Since the angle classifier is not initialized, it will not be used during the forward process\n",
            "[2024/10/15 17:38:20] ppocr WARNING: Since the angle classifier is not initialized, it will not be used during the forward process\n",
            "[2024/10/15 17:38:20] ppocr WARNING: Since the angle classifier is not initialized, it will not be used during the forward process\n",
            "[2024/10/15 17:38:21] ppocr WARNING: Since the angle classifier is not initialized, it will not be used during the forward process\n",
            "[2024/10/15 17:38:21] ppocr WARNING: Since the angle classifier is not initialized, it will not be used during the forward process\n",
            "[2024/10/15 17:38:21] ppocr WARNING: Since the angle classifier is not initialized, it will not be used during the forward process\n",
            "[2024/10/15 17:38:21] ppocr WARNING: Since the angle classifier is not initialized, it will not be used during the forward process\n",
            "[2024/10/15 17:38:21] ppocr WARNING: Since the angle classifier is not initialized, it will not be used during the forward process\n",
            "[2024/10/15 17:38:21] ppocr WARNING: Since the angle classifier is not initialized, it will not be used during the forward process\n",
            "[2024/10/15 17:38:21] ppocr WARNING: Since the angle classifier is not initialized, it will not be used during the forward process\n",
            "[2024/10/15 17:38:21] ppocr WARNING: Since the angle classifier is not initialized, it will not be used during the forward process\n",
            "[2024/10/15 17:38:21] ppocr WARNING: Since the angle classifier is not initialized, it will not be used during the forward process\n",
            "[2024/10/15 17:38:21] ppocr WARNING: Since the angle classifier is not initialized, it will not be used during the forward process\n",
            "[2024/10/15 17:38:21] ppocr WARNING: Since the angle classifier is not initialized, it will not be used during the forward process\n",
            "[2024/10/15 17:38:22] ppocr WARNING: Since the angle classifier is not initialized, it will not be used during the forward process\n",
            "[2024/10/15 17:38:22] ppocr WARNING: Since the angle classifier is not initialized, it will not be used during the forward process\n",
            "[2024/10/15 17:38:22] ppocr WARNING: Since the angle classifier is not initialized, it will not be used during the forward process\n",
            "[2024/10/15 17:38:22] ppocr WARNING: Since the angle classifier is not initialized, it will not be used during the forward process\n",
            "Processed and saved table as CSV: /content/drive/MyDrive/idp_bootcamp/week_3_assignment/csv_outs/0005ab896e95c5de6885bbf595500a8e-66.csv\n",
            "001e626d00966d0268d44ce686e8559b-118.png\n",
            "Num rows initially detected: 10\n",
            "Num cols initially detected: 5\n",
            "Num table header detected: 1\n",
            "[2024/10/15 17:38:24] ppocr WARNING: Since the angle classifier is not initialized, it will not be used during the forward process\n",
            "[2024/10/15 17:38:24] ppocr WARNING: Since the angle classifier is not initialized, it will not be used during the forward process\n",
            "[2024/10/15 17:38:24] ppocr WARNING: Since the angle classifier is not initialized, it will not be used during the forward process\n",
            "[2024/10/15 17:38:25] ppocr WARNING: Since the angle classifier is not initialized, it will not be used during the forward process\n",
            "[2024/10/15 17:38:25] ppocr WARNING: Since the angle classifier is not initialized, it will not be used during the forward process\n",
            "[2024/10/15 17:38:25] ppocr WARNING: Since the angle classifier is not initialized, it will not be used during the forward process\n",
            "[2024/10/15 17:38:25] ppocr WARNING: Since the angle classifier is not initialized, it will not be used during the forward process\n",
            "[2024/10/15 17:38:25] ppocr WARNING: Since the angle classifier is not initialized, it will not be used during the forward process\n",
            "[2024/10/15 17:38:25] ppocr WARNING: Since the angle classifier is not initialized, it will not be used during the forward process\n",
            "[2024/10/15 17:38:25] ppocr WARNING: Since the angle classifier is not initialized, it will not be used during the forward process\n",
            "[2024/10/15 17:38:26] ppocr WARNING: Since the angle classifier is not initialized, it will not be used during the forward process\n",
            "[2024/10/15 17:38:26] ppocr WARNING: Since the angle classifier is not initialized, it will not be used during the forward process\n",
            "[2024/10/15 17:38:26] ppocr WARNING: Since the angle classifier is not initialized, it will not be used during the forward process\n",
            "[2024/10/15 17:38:26] ppocr WARNING: Since the angle classifier is not initialized, it will not be used during the forward process\n",
            "[2024/10/15 17:38:26] ppocr WARNING: Since the angle classifier is not initialized, it will not be used during the forward process\n",
            "[2024/10/15 17:38:26] ppocr WARNING: Since the angle classifier is not initialized, it will not be used during the forward process\n",
            "[2024/10/15 17:38:26] ppocr WARNING: Since the angle classifier is not initialized, it will not be used during the forward process\n",
            "[2024/10/15 17:38:26] ppocr WARNING: Since the angle classifier is not initialized, it will not be used during the forward process\n",
            "[2024/10/15 17:38:27] ppocr WARNING: Since the angle classifier is not initialized, it will not be used during the forward process\n",
            "[2024/10/15 17:38:27] ppocr WARNING: Since the angle classifier is not initialized, it will not be used during the forward process\n",
            "[2024/10/15 17:38:27] ppocr WARNING: Since the angle classifier is not initialized, it will not be used during the forward process\n",
            "[2024/10/15 17:38:27] ppocr WARNING: Since the angle classifier is not initialized, it will not be used during the forward process\n",
            "[2024/10/15 17:38:27] ppocr WARNING: Since the angle classifier is not initialized, it will not be used during the forward process\n",
            "[2024/10/15 17:38:27] ppocr WARNING: Since the angle classifier is not initialized, it will not be used during the forward process\n",
            "[2024/10/15 17:38:27] ppocr WARNING: Since the angle classifier is not initialized, it will not be used during the forward process\n",
            "[2024/10/15 17:38:27] ppocr WARNING: Since the angle classifier is not initialized, it will not be used during the forward process\n",
            "[2024/10/15 17:38:28] ppocr WARNING: Since the angle classifier is not initialized, it will not be used during the forward process\n",
            "[2024/10/15 17:38:28] ppocr WARNING: Since the angle classifier is not initialized, it will not be used during the forward process\n",
            "[2024/10/15 17:38:28] ppocr WARNING: Since the angle classifier is not initialized, it will not be used during the forward process\n",
            "[2024/10/15 17:38:28] ppocr WARNING: Since the angle classifier is not initialized, it will not be used during the forward process\n",
            "[2024/10/15 17:38:28] ppocr WARNING: Since the angle classifier is not initialized, it will not be used during the forward process\n",
            "[2024/10/15 17:38:28] ppocr WARNING: Since the angle classifier is not initialized, it will not be used during the forward process\n",
            "[2024/10/15 17:38:28] ppocr WARNING: Since the angle classifier is not initialized, it will not be used during the forward process\n",
            "[2024/10/15 17:38:28] ppocr WARNING: Since the angle classifier is not initialized, it will not be used during the forward process\n",
            "[2024/10/15 17:38:29] ppocr WARNING: Since the angle classifier is not initialized, it will not be used during the forward process\n",
            "[2024/10/15 17:38:29] ppocr WARNING: Since the angle classifier is not initialized, it will not be used during the forward process\n",
            "[2024/10/15 17:38:29] ppocr WARNING: Since the angle classifier is not initialized, it will not be used during the forward process\n",
            "[2024/10/15 17:38:29] ppocr WARNING: Since the angle classifier is not initialized, it will not be used during the forward process\n",
            "[2024/10/15 17:38:29] ppocr WARNING: Since the angle classifier is not initialized, it will not be used during the forward process\n",
            "[2024/10/15 17:38:29] ppocr WARNING: Since the angle classifier is not initialized, it will not be used during the forward process\n",
            "[2024/10/15 17:38:29] ppocr WARNING: Since the angle classifier is not initialized, it will not be used during the forward process\n",
            "[2024/10/15 17:38:29] ppocr WARNING: Since the angle classifier is not initialized, it will not be used during the forward process\n",
            "[2024/10/15 17:38:30] ppocr WARNING: Since the angle classifier is not initialized, it will not be used during the forward process\n",
            "[2024/10/15 17:38:30] ppocr WARNING: Since the angle classifier is not initialized, it will not be used during the forward process\n",
            "[2024/10/15 17:38:30] ppocr WARNING: Since the angle classifier is not initialized, it will not be used during the forward process\n",
            "[2024/10/15 17:38:30] ppocr WARNING: Since the angle classifier is not initialized, it will not be used during the forward process\n",
            "[2024/10/15 17:38:30] ppocr WARNING: Since the angle classifier is not initialized, it will not be used during the forward process\n",
            "[2024/10/15 17:38:30] ppocr WARNING: Since the angle classifier is not initialized, it will not be used during the forward process\n",
            "[2024/10/15 17:38:30] ppocr WARNING: Since the angle classifier is not initialized, it will not be used during the forward process\n",
            "[2024/10/15 17:38:30] ppocr WARNING: Since the angle classifier is not initialized, it will not be used during the forward process\n",
            "Processed and saved table as CSV: /content/drive/MyDrive/idp_bootcamp/week_3_assignment/csv_outs/001e626d00966d0268d44ce686e8559b-118.csv\n",
            "000f8315c3bea30fb7ae99f925286343-15.png\n",
            "Num rows initially detected: 0\n",
            "Num cols initially detected: 5\n",
            "Num table header detected: 1\n",
            "Processed and saved table as CSV: /content/drive/MyDrive/idp_bootcamp/week_3_assignment/csv_outs/000f8315c3bea30fb7ae99f925286343-15.csv\n",
            "001e626d00966d0268d44ce686e8559b-62.png\n",
            "Num rows initially detected: 17\n",
            "Num cols initially detected: 2\n",
            "Num table header detected: 1\n",
            "[2024/10/15 17:38:34] ppocr WARNING: Since the angle classifier is not initialized, it will not be used during the forward process\n",
            "[2024/10/15 17:38:34] ppocr WARNING: Since the angle classifier is not initialized, it will not be used during the forward process\n",
            "[2024/10/15 17:38:34] ppocr WARNING: Since the angle classifier is not initialized, it will not be used during the forward process\n",
            "[2024/10/15 17:38:34] ppocr WARNING: Since the angle classifier is not initialized, it will not be used during the forward process\n",
            "[2024/10/15 17:38:34] ppocr WARNING: Since the angle classifier is not initialized, it will not be used during the forward process\n",
            "[2024/10/15 17:38:35] ppocr WARNING: Since the angle classifier is not initialized, it will not be used during the forward process\n",
            "[2024/10/15 17:38:35] ppocr WARNING: Since the angle classifier is not initialized, it will not be used during the forward process\n",
            "[2024/10/15 17:38:35] ppocr WARNING: Since the angle classifier is not initialized, it will not be used during the forward process\n",
            "[2024/10/15 17:38:35] ppocr WARNING: Since the angle classifier is not initialized, it will not be used during the forward process\n",
            "[2024/10/15 17:38:35] ppocr WARNING: Since the angle classifier is not initialized, it will not be used during the forward process\n",
            "[2024/10/15 17:38:35] ppocr WARNING: Since the angle classifier is not initialized, it will not be used during the forward process\n",
            "[2024/10/15 17:38:35] ppocr WARNING: Since the angle classifier is not initialized, it will not be used during the forward process\n",
            "[2024/10/15 17:38:35] ppocr WARNING: Since the angle classifier is not initialized, it will not be used during the forward process\n",
            "[2024/10/15 17:38:36] ppocr WARNING: Since the angle classifier is not initialized, it will not be used during the forward process\n",
            "[2024/10/15 17:38:36] ppocr WARNING: Since the angle classifier is not initialized, it will not be used during the forward process\n",
            "[2024/10/15 17:38:36] ppocr WARNING: Since the angle classifier is not initialized, it will not be used during the forward process\n",
            "[2024/10/15 17:38:36] ppocr WARNING: Since the angle classifier is not initialized, it will not be used during the forward process\n",
            "[2024/10/15 17:38:36] ppocr WARNING: Since the angle classifier is not initialized, it will not be used during the forward process\n",
            "[2024/10/15 17:38:36] ppocr WARNING: Since the angle classifier is not initialized, it will not be used during the forward process\n",
            "[2024/10/15 17:38:37] ppocr WARNING: Since the angle classifier is not initialized, it will not be used during the forward process\n",
            "[2024/10/15 17:38:37] ppocr WARNING: Since the angle classifier is not initialized, it will not be used during the forward process\n",
            "[2024/10/15 17:38:37] ppocr WARNING: Since the angle classifier is not initialized, it will not be used during the forward process\n",
            "[2024/10/15 17:38:37] ppocr WARNING: Since the angle classifier is not initialized, it will not be used during the forward process\n",
            "[2024/10/15 17:38:37] ppocr WARNING: Since the angle classifier is not initialized, it will not be used during the forward process\n",
            "[2024/10/15 17:38:37] ppocr WARNING: Since the angle classifier is not initialized, it will not be used during the forward process\n",
            "[2024/10/15 17:38:37] ppocr WARNING: Since the angle classifier is not initialized, it will not be used during the forward process\n",
            "[2024/10/15 17:38:38] ppocr WARNING: Since the angle classifier is not initialized, it will not be used during the forward process\n",
            "[2024/10/15 17:38:38] ppocr WARNING: Since the angle classifier is not initialized, it will not be used during the forward process\n",
            "[2024/10/15 17:38:38] ppocr WARNING: Since the angle classifier is not initialized, it will not be used during the forward process\n",
            "[2024/10/15 17:38:38] ppocr WARNING: Since the angle classifier is not initialized, it will not be used during the forward process\n",
            "[2024/10/15 17:38:38] ppocr WARNING: Since the angle classifier is not initialized, it will not be used during the forward process\n",
            "[2024/10/15 17:38:38] ppocr WARNING: Since the angle classifier is not initialized, it will not be used during the forward process\n",
            "[2024/10/15 17:38:39] ppocr WARNING: Since the angle classifier is not initialized, it will not be used during the forward process\n",
            "[2024/10/15 17:38:39] ppocr WARNING: Since the angle classifier is not initialized, it will not be used during the forward process\n",
            "Processed and saved table as CSV: /content/drive/MyDrive/idp_bootcamp/week_3_assignment/csv_outs/001e626d00966d0268d44ce686e8559b-62.csv\n",
            "0081e7fd154bb0319f96ac0c6127da1a-118.png\n",
            "Num rows initially detected: 12\n",
            "Num cols initially detected: 11\n",
            "Num table header detected: 1\n",
            "[2024/10/15 17:38:44] ppocr WARNING: Since the angle classifier is not initialized, it will not be used during the forward process\n",
            "[2024/10/15 17:38:44] ppocr WARNING: Since the angle classifier is not initialized, it will not be used during the forward process\n",
            "[2024/10/15 17:38:44] ppocr WARNING: Since the angle classifier is not initialized, it will not be used during the forward process\n",
            "[2024/10/15 17:38:44] ppocr WARNING: Since the angle classifier is not initialized, it will not be used during the forward process\n",
            "[2024/10/15 17:38:45] ppocr WARNING: Since the angle classifier is not initialized, it will not be used during the forward process\n",
            "[2024/10/15 17:38:45] ppocr WARNING: Since the angle classifier is not initialized, it will not be used during the forward process\n",
            "[2024/10/15 17:38:45] ppocr WARNING: Since the angle classifier is not initialized, it will not be used during the forward process\n",
            "[2024/10/15 17:38:45] ppocr WARNING: Since the angle classifier is not initialized, it will not be used during the forward process\n",
            "[2024/10/15 17:38:45] ppocr WARNING: Since the angle classifier is not initialized, it will not be used during the forward process\n",
            "[2024/10/15 17:38:45] ppocr WARNING: Since the angle classifier is not initialized, it will not be used during the forward process\n",
            "[2024/10/15 17:38:45] ppocr WARNING: Since the angle classifier is not initialized, it will not be used during the forward process\n",
            "[2024/10/15 17:38:45] ppocr WARNING: Since the angle classifier is not initialized, it will not be used during the forward process\n",
            "[2024/10/15 17:38:45] ppocr WARNING: Since the angle classifier is not initialized, it will not be used during the forward process\n",
            "[2024/10/15 17:38:45] ppocr WARNING: Since the angle classifier is not initialized, it will not be used during the forward process\n",
            "[2024/10/15 17:38:46] ppocr WARNING: Since the angle classifier is not initialized, it will not be used during the forward process\n",
            "[2024/10/15 17:38:46] ppocr WARNING: Since the angle classifier is not initialized, it will not be used during the forward process\n",
            "[2024/10/15 17:38:46] ppocr WARNING: Since the angle classifier is not initialized, it will not be used during the forward process\n",
            "[2024/10/15 17:38:46] ppocr WARNING: Since the angle classifier is not initialized, it will not be used during the forward process\n",
            "[2024/10/15 17:38:46] ppocr WARNING: Since the angle classifier is not initialized, it will not be used during the forward process\n",
            "[2024/10/15 17:38:46] ppocr WARNING: Since the angle classifier is not initialized, it will not be used during the forward process\n",
            "[2024/10/15 17:38:46] ppocr WARNING: Since the angle classifier is not initialized, it will not be used during the forward process\n",
            "[2024/10/15 17:38:46] ppocr WARNING: Since the angle classifier is not initialized, it will not be used during the forward process\n",
            "[2024/10/15 17:38:46] ppocr WARNING: Since the angle classifier is not initialized, it will not be used during the forward process\n",
            "[2024/10/15 17:38:46] ppocr WARNING: Since the angle classifier is not initialized, it will not be used during the forward process\n",
            "[2024/10/15 17:38:46] ppocr WARNING: Since the angle classifier is not initialized, it will not be used during the forward process\n",
            "[2024/10/15 17:38:46] ppocr WARNING: Since the angle classifier is not initialized, it will not be used during the forward process\n",
            "[2024/10/15 17:38:46] ppocr WARNING: Since the angle classifier is not initialized, it will not be used during the forward process\n",
            "[2024/10/15 17:38:47] ppocr WARNING: Since the angle classifier is not initialized, it will not be used during the forward process\n",
            "[2024/10/15 17:38:47] ppocr WARNING: Since the angle classifier is not initialized, it will not be used during the forward process\n",
            "[2024/10/15 17:38:47] ppocr WARNING: Since the angle classifier is not initialized, it will not be used during the forward process\n",
            "[2024/10/15 17:38:47] ppocr WARNING: Since the angle classifier is not initialized, it will not be used during the forward process\n",
            "[2024/10/15 17:38:47] ppocr WARNING: Since the angle classifier is not initialized, it will not be used during the forward process\n",
            "[2024/10/15 17:38:47] ppocr WARNING: Since the angle classifier is not initialized, it will not be used during the forward process\n",
            "[2024/10/15 17:38:47] ppocr WARNING: Since the angle classifier is not initialized, it will not be used during the forward process\n",
            "[2024/10/15 17:38:47] ppocr WARNING: Since the angle classifier is not initialized, it will not be used during the forward process\n",
            "[2024/10/15 17:38:47] ppocr WARNING: Since the angle classifier is not initialized, it will not be used during the forward process\n",
            "[2024/10/15 17:38:48] ppocr WARNING: Since the angle classifier is not initialized, it will not be used during the forward process\n",
            "[2024/10/15 17:38:48] ppocr WARNING: Since the angle classifier is not initialized, it will not be used during the forward process\n",
            "[2024/10/15 17:38:48] ppocr WARNING: Since the angle classifier is not initialized, it will not be used during the forward process\n",
            "[2024/10/15 17:38:48] ppocr WARNING: Since the angle classifier is not initialized, it will not be used during the forward process\n",
            "[2024/10/15 17:38:48] ppocr WARNING: Since the angle classifier is not initialized, it will not be used during the forward process\n",
            "[2024/10/15 17:38:48] ppocr WARNING: Since the angle classifier is not initialized, it will not be used during the forward process\n",
            "[2024/10/15 17:38:48] ppocr WARNING: Since the angle classifier is not initialized, it will not be used during the forward process\n",
            "[2024/10/15 17:38:48] ppocr WARNING: Since the angle classifier is not initialized, it will not be used during the forward process\n",
            "[2024/10/15 17:38:49] ppocr WARNING: Since the angle classifier is not initialized, it will not be used during the forward process\n",
            "[2024/10/15 17:38:49] ppocr WARNING: Since the angle classifier is not initialized, it will not be used during the forward process\n",
            "[2024/10/15 17:38:49] ppocr WARNING: Since the angle classifier is not initialized, it will not be used during the forward process\n",
            "[2024/10/15 17:38:49] ppocr WARNING: Since the angle classifier is not initialized, it will not be used during the forward process\n",
            "[2024/10/15 17:38:49] ppocr WARNING: Since the angle classifier is not initialized, it will not be used during the forward process\n",
            "[2024/10/15 17:38:49] ppocr WARNING: Since the angle classifier is not initialized, it will not be used during the forward process\n",
            "[2024/10/15 17:38:49] ppocr WARNING: Since the angle classifier is not initialized, it will not be used during the forward process\n",
            "[2024/10/15 17:38:49] ppocr WARNING: Since the angle classifier is not initialized, it will not be used during the forward process\n",
            "[2024/10/15 17:38:49] ppocr WARNING: Since the angle classifier is not initialized, it will not be used during the forward process\n",
            "[2024/10/15 17:38:50] ppocr WARNING: Since the angle classifier is not initialized, it will not be used during the forward process\n",
            "[2024/10/15 17:38:50] ppocr WARNING: Since the angle classifier is not initialized, it will not be used during the forward process\n",
            "[2024/10/15 17:38:50] ppocr WARNING: Since the angle classifier is not initialized, it will not be used during the forward process\n",
            "[2024/10/15 17:38:50] ppocr WARNING: Since the angle classifier is not initialized, it will not be used during the forward process\n",
            "[2024/10/15 17:38:50] ppocr WARNING: Since the angle classifier is not initialized, it will not be used during the forward process\n",
            "[2024/10/15 17:38:50] ppocr WARNING: Since the angle classifier is not initialized, it will not be used during the forward process\n",
            "[2024/10/15 17:38:50] ppocr WARNING: Since the angle classifier is not initialized, it will not be used during the forward process\n",
            "[2024/10/15 17:38:50] ppocr WARNING: Since the angle classifier is not initialized, it will not be used during the forward process\n",
            "[2024/10/15 17:38:50] ppocr WARNING: Since the angle classifier is not initialized, it will not be used during the forward process\n",
            "[2024/10/15 17:38:51] ppocr WARNING: Since the angle classifier is not initialized, it will not be used during the forward process\n",
            "[2024/10/15 17:38:51] ppocr WARNING: Since the angle classifier is not initialized, it will not be used during the forward process\n",
            "[2024/10/15 17:38:51] ppocr WARNING: Since the angle classifier is not initialized, it will not be used during the forward process\n",
            "[2024/10/15 17:38:51] ppocr WARNING: Since the angle classifier is not initialized, it will not be used during the forward process\n",
            "[2024/10/15 17:38:51] ppocr WARNING: Since the angle classifier is not initialized, it will not be used during the forward process\n",
            "[2024/10/15 17:38:51] ppocr WARNING: Since the angle classifier is not initialized, it will not be used during the forward process\n",
            "[2024/10/15 17:38:51] ppocr WARNING: Since the angle classifier is not initialized, it will not be used during the forward process\n",
            "[2024/10/15 17:38:51] ppocr WARNING: Since the angle classifier is not initialized, it will not be used during the forward process\n",
            "[2024/10/15 17:38:51] ppocr WARNING: Since the angle classifier is not initialized, it will not be used during the forward process\n",
            "[2024/10/15 17:38:51] ppocr WARNING: Since the angle classifier is not initialized, it will not be used during the forward process\n",
            "[2024/10/15 17:38:51] ppocr WARNING: Since the angle classifier is not initialized, it will not be used during the forward process\n",
            "[2024/10/15 17:38:51] ppocr WARNING: Since the angle classifier is not initialized, it will not be used during the forward process\n",
            "[2024/10/15 17:38:51] ppocr WARNING: Since the angle classifier is not initialized, it will not be used during the forward process\n",
            "[2024/10/15 17:38:51] ppocr WARNING: Since the angle classifier is not initialized, it will not be used during the forward process\n",
            "[2024/10/15 17:38:51] ppocr WARNING: Since the angle classifier is not initialized, it will not be used during the forward process\n",
            "[2024/10/15 17:38:51] ppocr WARNING: Since the angle classifier is not initialized, it will not be used during the forward process\n",
            "[2024/10/15 17:38:52] ppocr WARNING: Since the angle classifier is not initialized, it will not be used during the forward process\n",
            "[2024/10/15 17:38:52] ppocr WARNING: Since the angle classifier is not initialized, it will not be used during the forward process\n",
            "[2024/10/15 17:38:52] ppocr WARNING: Since the angle classifier is not initialized, it will not be used during the forward process\n",
            "[2024/10/15 17:38:52] ppocr WARNING: Since the angle classifier is not initialized, it will not be used during the forward process\n",
            "[2024/10/15 17:38:52] ppocr WARNING: Since the angle classifier is not initialized, it will not be used during the forward process\n",
            "[2024/10/15 17:38:52] ppocr WARNING: Since the angle classifier is not initialized, it will not be used during the forward process\n",
            "[2024/10/15 17:38:52] ppocr WARNING: Since the angle classifier is not initialized, it will not be used during the forward process\n",
            "[2024/10/15 17:38:52] ppocr WARNING: Since the angle classifier is not initialized, it will not be used during the forward process\n",
            "[2024/10/15 17:38:52] ppocr WARNING: Since the angle classifier is not initialized, it will not be used during the forward process\n",
            "[2024/10/15 17:38:52] ppocr WARNING: Since the angle classifier is not initialized, it will not be used during the forward process\n",
            "[2024/10/15 17:38:52] ppocr WARNING: Since the angle classifier is not initialized, it will not be used during the forward process\n",
            "[2024/10/15 17:38:53] ppocr WARNING: Since the angle classifier is not initialized, it will not be used during the forward process\n",
            "[2024/10/15 17:38:53] ppocr WARNING: Since the angle classifier is not initialized, it will not be used during the forward process\n",
            "[2024/10/15 17:38:53] ppocr WARNING: Since the angle classifier is not initialized, it will not be used during the forward process\n",
            "[2024/10/15 17:38:53] ppocr WARNING: Since the angle classifier is not initialized, it will not be used during the forward process\n",
            "[2024/10/15 17:38:53] ppocr WARNING: Since the angle classifier is not initialized, it will not be used during the forward process\n",
            "[2024/10/15 17:38:53] ppocr WARNING: Since the angle classifier is not initialized, it will not be used during the forward process\n",
            "[2024/10/15 17:38:53] ppocr WARNING: Since the angle classifier is not initialized, it will not be used during the forward process\n",
            "[2024/10/15 17:38:53] ppocr WARNING: Since the angle classifier is not initialized, it will not be used during the forward process\n",
            "[2024/10/15 17:38:54] ppocr WARNING: Since the angle classifier is not initialized, it will not be used during the forward process\n",
            "[2024/10/15 17:38:54] ppocr WARNING: Since the angle classifier is not initialized, it will not be used during the forward process\n",
            "[2024/10/15 17:38:54] ppocr WARNING: Since the angle classifier is not initialized, it will not be used during the forward process\n",
            "[2024/10/15 17:38:54] ppocr WARNING: Since the angle classifier is not initialized, it will not be used during the forward process\n",
            "[2024/10/15 17:38:54] ppocr WARNING: Since the angle classifier is not initialized, it will not be used during the forward process\n",
            "[2024/10/15 17:38:54] ppocr WARNING: Since the angle classifier is not initialized, it will not be used during the forward process\n",
            "[2024/10/15 17:38:54] ppocr WARNING: Since the angle classifier is not initialized, it will not be used during the forward process\n",
            "[2024/10/15 17:38:54] ppocr WARNING: Since the angle classifier is not initialized, it will not be used during the forward process\n",
            "[2024/10/15 17:38:54] ppocr WARNING: Since the angle classifier is not initialized, it will not be used during the forward process\n",
            "[2024/10/15 17:38:55] ppocr WARNING: Since the angle classifier is not initialized, it will not be used during the forward process\n",
            "[2024/10/15 17:38:55] ppocr WARNING: Since the angle classifier is not initialized, it will not be used during the forward process\n",
            "[2024/10/15 17:38:55] ppocr WARNING: Since the angle classifier is not initialized, it will not be used during the forward process\n",
            "[2024/10/15 17:38:55] ppocr WARNING: Since the angle classifier is not initialized, it will not be used during the forward process\n",
            "[2024/10/15 17:38:55] ppocr WARNING: Since the angle classifier is not initialized, it will not be used during the forward process\n",
            "[2024/10/15 17:38:55] ppocr WARNING: Since the angle classifier is not initialized, it will not be used during the forward process\n",
            "[2024/10/15 17:38:55] ppocr WARNING: Since the angle classifier is not initialized, it will not be used during the forward process\n",
            "[2024/10/15 17:38:55] ppocr WARNING: Since the angle classifier is not initialized, it will not be used during the forward process\n",
            "[2024/10/15 17:38:55] ppocr WARNING: Since the angle classifier is not initialized, it will not be used during the forward process\n",
            "[2024/10/15 17:38:55] ppocr WARNING: Since the angle classifier is not initialized, it will not be used during the forward process\n",
            "[2024/10/15 17:38:55] ppocr WARNING: Since the angle classifier is not initialized, it will not be used during the forward process\n",
            "[2024/10/15 17:38:56] ppocr WARNING: Since the angle classifier is not initialized, it will not be used during the forward process\n",
            "[2024/10/15 17:38:56] ppocr WARNING: Since the angle classifier is not initialized, it will not be used during the forward process\n",
            "[2024/10/15 17:38:56] ppocr WARNING: Since the angle classifier is not initialized, it will not be used during the forward process\n",
            "[2024/10/15 17:38:56] ppocr WARNING: Since the angle classifier is not initialized, it will not be used during the forward process\n",
            "[2024/10/15 17:38:56] ppocr WARNING: Since the angle classifier is not initialized, it will not be used during the forward process\n",
            "[2024/10/15 17:38:56] ppocr WARNING: Since the angle classifier is not initialized, it will not be used during the forward process\n",
            "[2024/10/15 17:38:56] ppocr WARNING: Since the angle classifier is not initialized, it will not be used during the forward process\n",
            "[2024/10/15 17:38:56] ppocr WARNING: Since the angle classifier is not initialized, it will not be used during the forward process\n",
            "[2024/10/15 17:38:56] ppocr WARNING: Since the angle classifier is not initialized, it will not be used during the forward process\n",
            "[2024/10/15 17:38:56] ppocr WARNING: Since the angle classifier is not initialized, it will not be used during the forward process\n",
            "[2024/10/15 17:38:57] ppocr WARNING: Since the angle classifier is not initialized, it will not be used during the forward process\n",
            "[2024/10/15 17:38:57] ppocr WARNING: Since the angle classifier is not initialized, it will not be used during the forward process\n",
            "[2024/10/15 17:38:57] ppocr WARNING: Since the angle classifier is not initialized, it will not be used during the forward process\n",
            "[2024/10/15 17:38:57] ppocr WARNING: Since the angle classifier is not initialized, it will not be used during the forward process\n",
            "[2024/10/15 17:38:57] ppocr WARNING: Since the angle classifier is not initialized, it will not be used during the forward process\n",
            "Processed and saved table as CSV: /content/drive/MyDrive/idp_bootcamp/week_3_assignment/csv_outs/0081e7fd154bb0319f96ac0c6127da1a-118.csv\n",
            "005608f2ffa46e92e672f0083b6037c4-38.png\n",
            "Num rows initially detected: 0\n",
            "Num cols initially detected: 8\n",
            "Num table header detected: 0\n",
            "Processed and saved table as CSV: /content/drive/MyDrive/idp_bootcamp/week_3_assignment/csv_outs/005608f2ffa46e92e672f0083b6037c4-38.csv\n",
            "004f4586092af34f31313224ab19c50c-4.png\n",
            "Num rows initially detected: 23\n",
            "Num cols initially detected: 3\n",
            "Num table header detected: 1\n",
            "[2024/10/15 17:39:01] ppocr WARNING: Since the angle classifier is not initialized, it will not be used during the forward process\n",
            "[2024/10/15 17:39:02] ppocr WARNING: Since the angle classifier is not initialized, it will not be used during the forward process\n",
            "[2024/10/15 17:39:02] ppocr WARNING: Since the angle classifier is not initialized, it will not be used during the forward process\n",
            "[2024/10/15 17:39:02] ppocr WARNING: Since the angle classifier is not initialized, it will not be used during the forward process\n",
            "[2024/10/15 17:39:02] ppocr WARNING: Since the angle classifier is not initialized, it will not be used during the forward process\n",
            "[2024/10/15 17:39:02] ppocr WARNING: Since the angle classifier is not initialized, it will not be used during the forward process\n",
            "[2024/10/15 17:39:02] ppocr WARNING: Since the angle classifier is not initialized, it will not be used during the forward process\n",
            "[2024/10/15 17:39:02] ppocr WARNING: Since the angle classifier is not initialized, it will not be used during the forward process\n",
            "[2024/10/15 17:39:02] ppocr WARNING: Since the angle classifier is not initialized, it will not be used during the forward process\n",
            "[2024/10/15 17:39:03] ppocr WARNING: Since the angle classifier is not initialized, it will not be used during the forward process\n",
            "[2024/10/15 17:39:03] ppocr WARNING: Since the angle classifier is not initialized, it will not be used during the forward process\n",
            "[2024/10/15 17:39:03] ppocr WARNING: Since the angle classifier is not initialized, it will not be used during the forward process\n",
            "[2024/10/15 17:39:03] ppocr WARNING: Since the angle classifier is not initialized, it will not be used during the forward process\n",
            "[2024/10/15 17:39:03] ppocr WARNING: Since the angle classifier is not initialized, it will not be used during the forward process\n",
            "[2024/10/15 17:39:03] ppocr WARNING: Since the angle classifier is not initialized, it will not be used during the forward process\n",
            "[2024/10/15 17:39:03] ppocr WARNING: Since the angle classifier is not initialized, it will not be used during the forward process\n",
            "[2024/10/15 17:39:03] ppocr WARNING: Since the angle classifier is not initialized, it will not be used during the forward process\n",
            "[2024/10/15 17:39:04] ppocr WARNING: Since the angle classifier is not initialized, it will not be used during the forward process\n",
            "[2024/10/15 17:39:04] ppocr WARNING: Since the angle classifier is not initialized, it will not be used during the forward process\n",
            "[2024/10/15 17:39:04] ppocr WARNING: Since the angle classifier is not initialized, it will not be used during the forward process\n",
            "[2024/10/15 17:39:04] ppocr WARNING: Since the angle classifier is not initialized, it will not be used during the forward process\n",
            "[2024/10/15 17:39:04] ppocr WARNING: Since the angle classifier is not initialized, it will not be used during the forward process\n",
            "[2024/10/15 17:39:04] ppocr WARNING: Since the angle classifier is not initialized, it will not be used during the forward process\n",
            "[2024/10/15 17:39:04] ppocr WARNING: Since the angle classifier is not initialized, it will not be used during the forward process\n",
            "[2024/10/15 17:39:04] ppocr WARNING: Since the angle classifier is not initialized, it will not be used during the forward process\n",
            "[2024/10/15 17:39:04] ppocr WARNING: Since the angle classifier is not initialized, it will not be used during the forward process\n",
            "[2024/10/15 17:39:05] ppocr WARNING: Since the angle classifier is not initialized, it will not be used during the forward process\n",
            "[2024/10/15 17:39:05] ppocr WARNING: Since the angle classifier is not initialized, it will not be used during the forward process\n",
            "[2024/10/15 17:39:05] ppocr WARNING: Since the angle classifier is not initialized, it will not be used during the forward process\n",
            "[2024/10/15 17:39:05] ppocr WARNING: Since the angle classifier is not initialized, it will not be used during the forward process\n",
            "[2024/10/15 17:39:05] ppocr WARNING: Since the angle classifier is not initialized, it will not be used during the forward process\n",
            "[2024/10/15 17:39:05] ppocr WARNING: Since the angle classifier is not initialized, it will not be used during the forward process\n",
            "[2024/10/15 17:39:05] ppocr WARNING: Since the angle classifier is not initialized, it will not be used during the forward process\n",
            "[2024/10/15 17:39:05] ppocr WARNING: Since the angle classifier is not initialized, it will not be used during the forward process\n",
            "[2024/10/15 17:39:06] ppocr WARNING: Since the angle classifier is not initialized, it will not be used during the forward process\n",
            "[2024/10/15 17:39:06] ppocr WARNING: Since the angle classifier is not initialized, it will not be used during the forward process\n",
            "[2024/10/15 17:39:06] ppocr WARNING: Since the angle classifier is not initialized, it will not be used during the forward process\n",
            "[2024/10/15 17:39:06] ppocr WARNING: Since the angle classifier is not initialized, it will not be used during the forward process\n",
            "[2024/10/15 17:39:06] ppocr WARNING: Since the angle classifier is not initialized, it will not be used during the forward process\n",
            "[2024/10/15 17:39:06] ppocr WARNING: Since the angle classifier is not initialized, it will not be used during the forward process\n",
            "[2024/10/15 17:39:06] ppocr WARNING: Since the angle classifier is not initialized, it will not be used during the forward process\n",
            "[2024/10/15 17:39:06] ppocr WARNING: Since the angle classifier is not initialized, it will not be used during the forward process\n",
            "[2024/10/15 17:39:07] ppocr WARNING: Since the angle classifier is not initialized, it will not be used during the forward process\n",
            "[2024/10/15 17:39:07] ppocr WARNING: Since the angle classifier is not initialized, it will not be used during the forward process\n",
            "[2024/10/15 17:39:07] ppocr WARNING: Since the angle classifier is not initialized, it will not be used during the forward process\n",
            "[2024/10/15 17:39:07] ppocr WARNING: Since the angle classifier is not initialized, it will not be used during the forward process\n",
            "[2024/10/15 17:39:07] ppocr WARNING: Since the angle classifier is not initialized, it will not be used during the forward process\n",
            "[2024/10/15 17:39:07] ppocr WARNING: Since the angle classifier is not initialized, it will not be used during the forward process\n",
            "[2024/10/15 17:39:07] ppocr WARNING: Since the angle classifier is not initialized, it will not be used during the forward process\n",
            "[2024/10/15 17:39:07] ppocr WARNING: Since the angle classifier is not initialized, it will not be used during the forward process\n",
            "[2024/10/15 17:39:07] ppocr WARNING: Since the angle classifier is not initialized, it will not be used during the forward process\n",
            "[2024/10/15 17:39:07] ppocr WARNING: Since the angle classifier is not initialized, it will not be used during the forward process\n",
            "[2024/10/15 17:39:08] ppocr WARNING: Since the angle classifier is not initialized, it will not be used during the forward process\n",
            "[2024/10/15 17:39:08] ppocr WARNING: Since the angle classifier is not initialized, it will not be used during the forward process\n",
            "[2024/10/15 17:39:08] ppocr WARNING: Since the angle classifier is not initialized, it will not be used during the forward process\n",
            "[2024/10/15 17:39:08] ppocr WARNING: Since the angle classifier is not initialized, it will not be used during the forward process\n",
            "[2024/10/15 17:39:08] ppocr WARNING: Since the angle classifier is not initialized, it will not be used during the forward process\n",
            "[2024/10/15 17:39:08] ppocr WARNING: Since the angle classifier is not initialized, it will not be used during the forward process\n",
            "[2024/10/15 17:39:09] ppocr WARNING: Since the angle classifier is not initialized, it will not be used during the forward process\n",
            "[2024/10/15 17:39:09] ppocr WARNING: Since the angle classifier is not initialized, it will not be used during the forward process\n",
            "[2024/10/15 17:39:09] ppocr WARNING: Since the angle classifier is not initialized, it will not be used during the forward process\n",
            "[2024/10/15 17:39:09] ppocr WARNING: Since the angle classifier is not initialized, it will not be used during the forward process\n",
            "[2024/10/15 17:39:09] ppocr WARNING: Since the angle classifier is not initialized, it will not be used during the forward process\n",
            "[2024/10/15 17:39:09] ppocr WARNING: Since the angle classifier is not initialized, it will not be used during the forward process\n",
            "[2024/10/15 17:39:09] ppocr WARNING: Since the angle classifier is not initialized, it will not be used during the forward process\n",
            "[2024/10/15 17:39:09] ppocr WARNING: Since the angle classifier is not initialized, it will not be used during the forward process\n",
            "[2024/10/15 17:39:09] ppocr WARNING: Since the angle classifier is not initialized, it will not be used during the forward process\n",
            "[2024/10/15 17:39:10] ppocr WARNING: Since the angle classifier is not initialized, it will not be used during the forward process\n",
            "[2024/10/15 17:39:10] ppocr WARNING: Since the angle classifier is not initialized, it will not be used during the forward process\n",
            "Processed and saved table as CSV: /content/drive/MyDrive/idp_bootcamp/week_3_assignment/csv_outs/004f4586092af34f31313224ab19c50c-4.csv\n",
            "00bb7f8f05c53d3e4e1ee3f332278707-177.png\n",
            "Num rows initially detected: 2\n",
            "Num cols initially detected: 3\n",
            "Num table header detected: 1\n",
            "[2024/10/15 17:39:12] ppocr WARNING: Since the angle classifier is not initialized, it will not be used during the forward process\n",
            "[2024/10/15 17:39:12] ppocr WARNING: Since the angle classifier is not initialized, it will not be used during the forward process\n",
            "[2024/10/15 17:39:12] ppocr WARNING: Since the angle classifier is not initialized, it will not be used during the forward process\n",
            "[2024/10/15 17:39:12] ppocr WARNING: Since the angle classifier is not initialized, it will not be used during the forward process\n",
            "[2024/10/15 17:39:12] ppocr WARNING: Since the angle classifier is not initialized, it will not be used during the forward process\n",
            "[2024/10/15 17:39:12] ppocr WARNING: Since the angle classifier is not initialized, it will not be used during the forward process\n",
            "Processed and saved table as CSV: /content/drive/MyDrive/idp_bootcamp/week_3_assignment/csv_outs/00bb7f8f05c53d3e4e1ee3f332278707-177.csv\n",
            "All images processed and saved as CSV files.\n"
          ]
        }
      ],
      "source": [
        "# Process each image in the folder\n",
        "for img_file in os.listdir(input_folder):\n",
        "    if img_file.endswith(('.png', '.jpg', '.jpeg')):\n",
        "        img_path = os.path.join(input_folder, img_file)\n",
        "\n",
        "        # Extract row and column boxes for the table\n",
        "        row_boxes, row_scores, col_boxes, col_scores, header_boxes, header_scores = get_row_col_bounds(img_path)\n",
        "\n",
        "        # Sort the rows and columns\n",
        "        sorted_rows, sorted_cols = sort_row_col_boxes(row_boxes, col_boxes)\n",
        "\n",
        "        # Get the cell boxes by intersecting row and column boxes\n",
        "        cells = get_cells_by_intersecting_rows_and_cols(sorted_rows, sorted_cols)\n",
        "\n",
        "        # Open the image\n",
        "        image = Image.open(img_path).convert(\"RGB\")\n",
        "\n",
        "        # Initialize a list to store OCR results\n",
        "        results = []\n",
        "\n",
        "        # Perform OCR on each cell\n",
        "        for cell in cells:\n",
        "            cell_image = image.crop(cell)\n",
        "            result = ocr.ocr(PIL_to_cv(cell_image))\n",
        "            results.append(result)\n",
        "\n",
        "        # Create a DataFrame for the table\n",
        "        num_rows = len(sorted_rows)\n",
        "        num_cols = len(sorted_cols)\n",
        "        df = pd.DataFrame(index=range(num_rows), columns=range(num_cols))\n",
        "\n",
        "        # Fill the DataFrame with OCR results\n",
        "        for i, result in enumerate(results):\n",
        "            if result and result[0] and result[0][0] and result[0][0][1] and result[0][0][1][0]:\n",
        "                df.iloc[i // num_cols, i % num_cols] = result[0][0][1][0]\n",
        "            else:\n",
        "                df.iloc[i // num_cols, i % num_cols] = None\n",
        "\n",
        "        # Save the DataFrame as CSV with the same name as the image\n",
        "        csv_file_name = os.path.splitext(img_file)[0] + \".csv\"\n",
        "        csv_path = os.path.join(output_folder, csv_file_name)\n",
        "        df.to_csv(csv_path, index=False)\n",
        "\n",
        "        print(f\"Processed and saved table as CSV: {csv_path}\")\n",
        "\n",
        "print(\"All images processed and saved as CSV files.\")"
      ]
    },
    {
      "cell_type": "markdown",
      "metadata": {
        "id": "033UD5LmRBeF"
      },
      "source": [
        "The table detection accuracy is crucial for successful extraction of data from images. Inaccurate table structure detection and boundary detection lead to improper identification of rows, columns, and cells, resulting in incorrect cell cropping. This misalignment causes data loss, as portions of the table content may be excluded or wrongly classified into cells. To resolve this, improving the accuracy of table structure detection would enhance the precision of cell boundary identification. By refining the model’s ability to detect the exact position of rows, columns, and table headers, the output CSV file can be extracted more accurately. Approaches to improve table detection accuracy could include:\n",
        "\n",
        "    - Using higher resolution images to improve visual clarity.\n",
        "\t- Fine-tuning the model on specific datasets to better understand table formats.\n",
        "\t- Incorporating advanced post-processing techniques to better align detected rows and columns.\n",
        "\t- Adding pre-processing steps to enhance the contrast and edges of table borders for better detection.\n",
        "\n",
        "With these improvements, the detection model will yield more reliable table structure boundaries, enabling accurate extraction of table data and minimizing data loss."
      ]
    }
  ],
  "metadata": {
    "accelerator": "GPU",
    "colab": {
      "gpuType": "T4",
      "provenance": []
    },
    "kernelspec": {
      "display_name": "Python 3",
      "name": "python3"
    },
    "language_info": {
      "name": "python"
    }
  },
  "nbformat": 4,
  "nbformat_minor": 0
}
